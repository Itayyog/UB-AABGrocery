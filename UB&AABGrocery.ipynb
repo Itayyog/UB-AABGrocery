{
 "cells": [
  {
   "cell_type": "markdown",
   "id": "73a1b6ee",
   "metadata": {},
   "source": [
    "# User Behaviour in Food Store"
   ]
  },
  {
   "cell_type": "markdown",
   "id": "6486e8ba",
   "metadata": {},
   "source": [
    "This document will be an analysis of behaviour in user of an app that sells food.\n",
    "There will also be A/A/B testing for a change of font in the app."
   ]
  },
  {
   "cell_type": "markdown",
   "id": "f725b96f",
   "metadata": {},
   "source": [
    "## Loading and Preparing Data"
   ]
  },
  {
   "cell_type": "markdown",
   "id": "8899b3ea",
   "metadata": {},
   "source": [
    "### Loading Libraries and Data"
   ]
  },
  {
   "cell_type": "code",
   "execution_count": 32,
   "id": "3676b098",
   "metadata": {},
   "outputs": [],
   "source": [
    "import pandas as pd\n",
    "import datetime as dt\n",
    "import seaborn as sns\n",
    "from matplotlib import pyplot as plt\n",
    "from plotly import graph_objects as go\n",
    "from scipy import stats as st\n",
    "import numpy as np\n",
    "import math as mth\n",
    "import warnings\n",
    "warnings.filterwarnings(\"ignore\")"
   ]
  },
  {
   "cell_type": "code",
   "execution_count": 33,
   "id": "e5bbaa88",
   "metadata": {},
   "outputs": [],
   "source": [
    "try:\n",
    "    exp = pd.read_csv('C:/Csvs/logs_exp_us.csv',\n",
    "                      sep = '\\s+', header = 0,\n",
    "                      names = ['event', 'user_id', 'event_time', 'group'],\n",
    "                      dtype = {'group':'category'}, \n",
    "                      )\n",
    "except:\n",
    "    exp = pd.read_csv('/datasets/logs_exp_us.csv',\n",
    "                      sep = '\\s+', header = 0,\n",
    "                      names = ['event', 'user_id', 'event_time', 'group'],\n",
    "                      dtype = {'group':'category'}, \n",
    "                      )"
   ]
  },
  {
   "cell_type": "markdown",
   "id": "b7d4e8c6",
   "metadata": {},
   "source": [
    "### Pre-Processing"
   ]
  },
  {
   "cell_type": "code",
   "execution_count": 34,
   "id": "fd9284af",
   "metadata": {},
   "outputs": [],
   "source": [
    "exp['event_time'] = pd.to_datetime(exp['event_time'], unit = 's')"
   ]
  },
  {
   "cell_type": "code",
   "execution_count": 35,
   "id": "15c3c49b",
   "metadata": {},
   "outputs": [
    {
     "name": "stdout",
     "output_type": "stream",
     "text": [
      "<class 'pandas.core.frame.DataFrame'>\n",
      "RangeIndex: 244126 entries, 0 to 244125\n",
      "Data columns (total 4 columns):\n",
      " #   Column      Non-Null Count   Dtype         \n",
      "---  ------      --------------   -----         \n",
      " 0   event       244126 non-null  object        \n",
      " 1   user_id     244126 non-null  int64         \n",
      " 2   event_time  244126 non-null  datetime64[ns]\n",
      " 3   group       244126 non-null  category      \n",
      "dtypes: category(1), datetime64[ns](1), int64(1), object(1)\n",
      "memory usage: 5.8+ MB\n"
     ]
    }
   ],
   "source": [
    "exp.info()"
   ]
  },
  {
   "cell_type": "markdown",
   "id": "e59a79f8",
   "metadata": {},
   "source": [
    "Renamed columns, adapted data types, no missing values."
   ]
  },
  {
   "cell_type": "code",
   "execution_count": 36,
   "id": "67f014f6",
   "metadata": {},
   "outputs": [
    {
     "data": {
      "text/plain": [
       "413"
      ]
     },
     "execution_count": 36,
     "metadata": {},
     "output_type": "execute_result"
    }
   ],
   "source": [
    "#checking for duplicated rows\n",
    "exp.duplicated().sum()"
   ]
  },
  {
   "cell_type": "code",
   "execution_count": 37,
   "id": "ecf21a58",
   "metadata": {},
   "outputs": [
    {
     "data": {
      "text/plain": [
       "0"
      ]
     },
     "execution_count": 37,
     "metadata": {},
     "output_type": "execute_result"
    }
   ],
   "source": [
    "exp.drop_duplicates(inplace = True)\n",
    "exp.duplicated().sum()"
   ]
  },
  {
   "cell_type": "markdown",
   "id": "db194faf",
   "metadata": {},
   "source": [
    "Duplicated rows have been found and removed."
   ]
  },
  {
   "cell_type": "markdown",
   "id": "fba99aff",
   "metadata": {},
   "source": [
    "Checking to see if all users appear in just one group- can't have a user appearing on multiple and ruining the experiment."
   ]
  },
  {
   "cell_type": "code",
   "execution_count": 38,
   "id": "a69e5df7",
   "metadata": {},
   "outputs": [
    {
     "data": {
      "text/plain": [
       "1    7551\n",
       "Name: group, dtype: int64"
      ]
     },
     "execution_count": 38,
     "metadata": {},
     "output_type": "execute_result"
    }
   ],
   "source": [
    "exp.groupby('user_id').agg({'group' : 'nunique'}).reset_index()['group'].value_counts()"
   ]
  },
  {
   "cell_type": "markdown",
   "id": "f14d56c8",
   "metadata": {},
   "source": [
    "All users appear in just one experiment group."
   ]
  },
  {
   "cell_type": "code",
   "execution_count": 39,
   "id": "d4e5479d",
   "metadata": {},
   "outputs": [
    {
     "data": {
      "text/html": [
       "<div>\n",
       "<style scoped>\n",
       "    .dataframe tbody tr th:only-of-type {\n",
       "        vertical-align: middle;\n",
       "    }\n",
       "\n",
       "    .dataframe tbody tr th {\n",
       "        vertical-align: top;\n",
       "    }\n",
       "\n",
       "    .dataframe thead th {\n",
       "        text-align: right;\n",
       "    }\n",
       "</style>\n",
       "<table border=\"1\" class=\"dataframe\">\n",
       "  <thead>\n",
       "    <tr style=\"text-align: right;\">\n",
       "      <th></th>\n",
       "      <th>event</th>\n",
       "      <th>user_id</th>\n",
       "      <th>event_time</th>\n",
       "      <th>group</th>\n",
       "      <th>event_date</th>\n",
       "    </tr>\n",
       "  </thead>\n",
       "  <tbody>\n",
       "    <tr>\n",
       "      <th>0</th>\n",
       "      <td>MainScreenAppear</td>\n",
       "      <td>4575588528974610257</td>\n",
       "      <td>2019-07-25 04:43:36</td>\n",
       "      <td>246</td>\n",
       "      <td>2019-07-25</td>\n",
       "    </tr>\n",
       "    <tr>\n",
       "      <th>1</th>\n",
       "      <td>MainScreenAppear</td>\n",
       "      <td>7416695313311560658</td>\n",
       "      <td>2019-07-25 11:11:42</td>\n",
       "      <td>246</td>\n",
       "      <td>2019-07-25</td>\n",
       "    </tr>\n",
       "    <tr>\n",
       "      <th>2</th>\n",
       "      <td>PaymentScreenSuccessful</td>\n",
       "      <td>3518123091307005509</td>\n",
       "      <td>2019-07-25 11:28:47</td>\n",
       "      <td>248</td>\n",
       "      <td>2019-07-25</td>\n",
       "    </tr>\n",
       "    <tr>\n",
       "      <th>3</th>\n",
       "      <td>CartScreenAppear</td>\n",
       "      <td>3518123091307005509</td>\n",
       "      <td>2019-07-25 11:28:47</td>\n",
       "      <td>248</td>\n",
       "      <td>2019-07-25</td>\n",
       "    </tr>\n",
       "    <tr>\n",
       "      <th>4</th>\n",
       "      <td>PaymentScreenSuccessful</td>\n",
       "      <td>6217807653094995999</td>\n",
       "      <td>2019-07-25 11:48:42</td>\n",
       "      <td>248</td>\n",
       "      <td>2019-07-25</td>\n",
       "    </tr>\n",
       "    <tr>\n",
       "      <th>...</th>\n",
       "      <td>...</td>\n",
       "      <td>...</td>\n",
       "      <td>...</td>\n",
       "      <td>...</td>\n",
       "      <td>...</td>\n",
       "    </tr>\n",
       "    <tr>\n",
       "      <th>244121</th>\n",
       "      <td>MainScreenAppear</td>\n",
       "      <td>4599628364049201812</td>\n",
       "      <td>2019-08-07 21:12:25</td>\n",
       "      <td>247</td>\n",
       "      <td>2019-08-07</td>\n",
       "    </tr>\n",
       "    <tr>\n",
       "      <th>244122</th>\n",
       "      <td>MainScreenAppear</td>\n",
       "      <td>5849806612437486590</td>\n",
       "      <td>2019-08-07 21:13:59</td>\n",
       "      <td>246</td>\n",
       "      <td>2019-08-07</td>\n",
       "    </tr>\n",
       "    <tr>\n",
       "      <th>244123</th>\n",
       "      <td>MainScreenAppear</td>\n",
       "      <td>5746969938801999050</td>\n",
       "      <td>2019-08-07 21:14:43</td>\n",
       "      <td>246</td>\n",
       "      <td>2019-08-07</td>\n",
       "    </tr>\n",
       "    <tr>\n",
       "      <th>244124</th>\n",
       "      <td>MainScreenAppear</td>\n",
       "      <td>5746969938801999050</td>\n",
       "      <td>2019-08-07 21:14:58</td>\n",
       "      <td>246</td>\n",
       "      <td>2019-08-07</td>\n",
       "    </tr>\n",
       "    <tr>\n",
       "      <th>244125</th>\n",
       "      <td>OffersScreenAppear</td>\n",
       "      <td>5746969938801999050</td>\n",
       "      <td>2019-08-07 21:15:17</td>\n",
       "      <td>246</td>\n",
       "      <td>2019-08-07</td>\n",
       "    </tr>\n",
       "  </tbody>\n",
       "</table>\n",
       "<p>243713 rows × 5 columns</p>\n",
       "</div>"
      ],
      "text/plain": [
       "                          event              user_id          event_time  \\\n",
       "0              MainScreenAppear  4575588528974610257 2019-07-25 04:43:36   \n",
       "1              MainScreenAppear  7416695313311560658 2019-07-25 11:11:42   \n",
       "2       PaymentScreenSuccessful  3518123091307005509 2019-07-25 11:28:47   \n",
       "3              CartScreenAppear  3518123091307005509 2019-07-25 11:28:47   \n",
       "4       PaymentScreenSuccessful  6217807653094995999 2019-07-25 11:48:42   \n",
       "...                         ...                  ...                 ...   \n",
       "244121         MainScreenAppear  4599628364049201812 2019-08-07 21:12:25   \n",
       "244122         MainScreenAppear  5849806612437486590 2019-08-07 21:13:59   \n",
       "244123         MainScreenAppear  5746969938801999050 2019-08-07 21:14:43   \n",
       "244124         MainScreenAppear  5746969938801999050 2019-08-07 21:14:58   \n",
       "244125       OffersScreenAppear  5746969938801999050 2019-08-07 21:15:17   \n",
       "\n",
       "       group event_date  \n",
       "0        246 2019-07-25  \n",
       "1        246 2019-07-25  \n",
       "2        248 2019-07-25  \n",
       "3        248 2019-07-25  \n",
       "4        248 2019-07-25  \n",
       "...      ...        ...  \n",
       "244121   247 2019-08-07  \n",
       "244122   246 2019-08-07  \n",
       "244123   246 2019-08-07  \n",
       "244124   246 2019-08-07  \n",
       "244125   246 2019-08-07  \n",
       "\n",
       "[243713 rows x 5 columns]"
      ]
     },
     "execution_count": 39,
     "metadata": {},
     "output_type": "execute_result"
    }
   ],
   "source": [
    "exp['event_date'] = pd.to_datetime(exp['event_time'].dt.date)\n",
    "exp"
   ]
  },
  {
   "cell_type": "markdown",
   "id": "887940cb",
   "metadata": {},
   "source": [
    "Added column for date of events, to enable grouping later."
   ]
  },
  {
   "cell_type": "markdown",
   "id": "73a0cbd5",
   "metadata": {},
   "source": [
    "## Studying Data"
   ]
  },
  {
   "cell_type": "markdown",
   "id": "add2a2e2",
   "metadata": {},
   "source": [
    "Taking a closer look at the dataset we are working with."
   ]
  },
  {
   "cell_type": "code",
   "execution_count": 40,
   "id": "29a37d05",
   "metadata": {},
   "outputs": [
    {
     "name": "stdout",
     "output_type": "stream",
     "text": [
      "Number of events in log: 243713\n",
      "Number of users in log: 7551\n"
     ]
    }
   ],
   "source": [
    "print('Number of events in log:', exp['event'].count())\n",
    "print('Number of users in log:', exp['user_id'].nunique())"
   ]
  },
  {
   "cell_type": "code",
   "execution_count": 41,
   "id": "6a3af5b4",
   "metadata": {},
   "outputs": [
    {
     "name": "stdout",
     "output_type": "stream",
     "text": [
      "Mean number of events per user: 32.27559263673685\n",
      "Median number of events per user: 20.0\n"
     ]
    }
   ],
   "source": [
    "events_mean = exp.groupby('user_id').agg({'event' : 'count'}).reset_index()['event'].mean()\n",
    "events_median = exp.groupby('user_id').agg({'event' : 'count'}).reset_index()['event'].median()\n",
    "\n",
    "print('Mean number of events per user:', events_mean)\n",
    "print('Median number of events per user:', events_median)"
   ]
  },
  {
   "cell_type": "code",
   "execution_count": 42,
   "id": "ef2e6052",
   "metadata": {},
   "outputs": [
    {
     "name": "stdout",
     "output_type": "stream",
     "text": [
      "Earliest event date in log: 2019-07-25 00:00:00\n",
      "Latest event date in log: 2019-08-07 00:00:00\n"
     ]
    }
   ],
   "source": [
    "earliest_event = exp['event_date'].min()\n",
    "latest_event = exp['event_date'].max()\n",
    "print('Earliest event date in log:', earliest_event)\n",
    "print('Latest event date in log:', latest_event)"
   ]
  },
  {
   "cell_type": "markdown",
   "id": "f08736d3",
   "metadata": {},
   "source": [
    "All events occured in the span of two weeks. Lets look at how the events are distributed across this period- "
   ]
  },
  {
   "cell_type": "code",
   "execution_count": 43,
   "id": "61d8c405",
   "metadata": {},
   "outputs": [
    {
     "data": {
      "image/png": "[encoded data removed]",
      "text/plain": [
       "<Figure size 1152x360 with 1 Axes>"
      ]
     },
     "metadata": {},
     "output_type": "display_data"
    }
   ],
   "source": [
    "sns.set(rc = {'figure.figsize':(16,5)})\n",
    "sns.histplot(data = exp, x = exp['event_date'])\n",
    "plt.show()"
   ]
  },
  {
   "cell_type": "markdown",
   "id": "e8827968",
   "metadata": {},
   "source": [
    "We can see we mostly have events from the second week of our time span.\n",
    "The small number of entries before the beggining of August could be there for technical reasons, and it may skew our data.\n",
    "Only entries from the 1st of August on will be taken on.\n",
    "\n",
    "This means our span will be 1 full week."
   ]
  },
  {
   "cell_type": "code",
   "execution_count": 44,
   "id": "0ab68aba",
   "metadata": {},
   "outputs": [],
   "source": [
    "exp_filt = exp.query('event_date >= \"2019-08-01\"')"
   ]
  },
  {
   "cell_type": "code",
   "execution_count": 45,
   "id": "7bd3564d",
   "metadata": {},
   "outputs": [
    {
     "name": "stdout",
     "output_type": "stream",
     "text": [
      "Number of events lost: 2826\n",
      "Number of users lost: 17\n"
     ]
    }
   ],
   "source": [
    "print('Number of events lost:', exp['event'].count() - exp_filt['event'].count())\n",
    "print('Number of users lost:',exp['user_id'].nunique() - exp_filt['user_id'].nunique()) "
   ]
  },
  {
   "cell_type": "markdown",
   "id": "1b7b00f0",
   "metadata": {},
   "source": [
    "Not a lot of data has been lost."
   ]
  },
  {
   "cell_type": "code",
   "execution_count": 46,
   "id": "8709f7e6",
   "metadata": {},
   "outputs": [
    {
     "data": {
      "text/plain": [
       "248    84563\n",
       "246    79302\n",
       "247    77022\n",
       "Name: group, dtype: int64"
      ]
     },
     "execution_count": 46,
     "metadata": {},
     "output_type": "execute_result"
    }
   ],
   "source": [
    "exp_filt['group'].value_counts()"
   ]
  },
  {
   "cell_type": "markdown",
   "id": "cbc16051",
   "metadata": {},
   "source": [
    "We have users from each groups, and a similar sample sizes from each of them."
   ]
  },
  {
   "cell_type": "markdown",
   "id": "f4035dfe",
   "metadata": {},
   "source": [
    "## Event Funnel"
   ]
  },
  {
   "cell_type": "markdown",
   "id": "529441f4",
   "metadata": {},
   "source": [
    "First lets take a look at what kind of events we have in our logs-"
   ]
  },
  {
   "cell_type": "code",
   "execution_count": 47,
   "id": "8a70098d",
   "metadata": {},
   "outputs": [
    {
     "data": {
      "text/plain": [
       "MainScreenAppear           117328\n",
       "OffersScreenAppear          46333\n",
       "CartScreenAppear            42303\n",
       "PaymentScreenSuccessful     33918\n",
       "Tutorial                     1005\n",
       "Name: event, dtype: int64"
      ]
     },
     "execution_count": 47,
     "metadata": {},
     "output_type": "execute_result"
    }
   ],
   "source": [
    "exp_filt['event'].value_counts()"
   ]
  },
  {
   "cell_type": "markdown",
   "id": "0fe0eb08",
   "metadata": {},
   "source": [
    "This simply shows us how many times every event occured in the span of our week.\n",
    "Lets narrow it to show the number of users that experienced each event."
   ]
  },
  {
   "cell_type": "code",
   "execution_count": 48,
   "id": "855cc392",
   "metadata": {},
   "outputs": [
    {
     "data": {
      "text/html": [
       "<div>\n",
       "<style scoped>\n",
       "    .dataframe tbody tr th:only-of-type {\n",
       "        vertical-align: middle;\n",
       "    }\n",
       "\n",
       "    .dataframe tbody tr th {\n",
       "        vertical-align: top;\n",
       "    }\n",
       "\n",
       "    .dataframe thead th {\n",
       "        text-align: right;\n",
       "    }\n",
       "</style>\n",
       "<table border=\"1\" class=\"dataframe\">\n",
       "  <thead>\n",
       "    <tr style=\"text-align: right;\">\n",
       "      <th></th>\n",
       "      <th>event</th>\n",
       "      <th>user_count</th>\n",
       "      <th>proportion</th>\n",
       "    </tr>\n",
       "  </thead>\n",
       "  <tbody>\n",
       "    <tr>\n",
       "      <th>0</th>\n",
       "      <td>MainScreenAppear</td>\n",
       "      <td>7419</td>\n",
       "      <td>0.984736</td>\n",
       "    </tr>\n",
       "    <tr>\n",
       "      <th>1</th>\n",
       "      <td>OffersScreenAppear</td>\n",
       "      <td>4593</td>\n",
       "      <td>0.609636</td>\n",
       "    </tr>\n",
       "    <tr>\n",
       "      <th>2</th>\n",
       "      <td>CartScreenAppear</td>\n",
       "      <td>3734</td>\n",
       "      <td>0.495620</td>\n",
       "    </tr>\n",
       "    <tr>\n",
       "      <th>3</th>\n",
       "      <td>PaymentScreenSuccessful</td>\n",
       "      <td>3539</td>\n",
       "      <td>0.469737</td>\n",
       "    </tr>\n",
       "    <tr>\n",
       "      <th>4</th>\n",
       "      <td>Tutorial</td>\n",
       "      <td>840</td>\n",
       "      <td>0.111495</td>\n",
       "    </tr>\n",
       "  </tbody>\n",
       "</table>\n",
       "</div>"
      ],
      "text/plain": [
       "                     event  user_count  proportion\n",
       "0         MainScreenAppear        7419    0.984736\n",
       "1       OffersScreenAppear        4593    0.609636\n",
       "2         CartScreenAppear        3734    0.495620\n",
       "3  PaymentScreenSuccessful        3539    0.469737\n",
       "4                 Tutorial         840    0.111495"
      ]
     },
     "execution_count": 48,
     "metadata": {},
     "output_type": "execute_result"
    }
   ],
   "source": [
    "users_per_event = (exp_filt.groupby('event')\n",
    "                   .agg({'user_id' : 'nunique'})\n",
    "                   .sort_values(by = 'user_id', ascending = False)\n",
    "                   .reset_index()\n",
    "                  )\n",
    "users_per_event.columns = ['event', 'user_count']\n",
    "users_per_event['proportion'] = users_per_event['user_count'] / exp_filt['user_id'].nunique()\n",
    "users_per_event"
   ]
  },
  {
   "cell_type": "markdown",
   "id": "9e7d9b44",
   "metadata": {},
   "source": [
    "The order of operations appears so: Main screen -> Offers -> Cart -> Payment. \n",
    "Judging by the user count and proportions, the Tutorial screen is optional, and so not many users enter it.\n",
    "\n",
    "Seeing as the Tutorial step is optional, it will be omitted:"
   ]
  },
  {
   "cell_type": "code",
   "execution_count": 49,
   "id": "d7bda880",
   "metadata": {},
   "outputs": [],
   "source": [
    "exp_filt = exp_filt.query('event != \"Tutorial\"')"
   ]
  },
  {
   "cell_type": "code",
   "execution_count": 50,
   "id": "5a66f577",
   "metadata": {},
   "outputs": [
    {
     "data": {
      "text/html": [
       "<div>\n",
       "<style scoped>\n",
       "    .dataframe tbody tr th:only-of-type {\n",
       "        vertical-align: middle;\n",
       "    }\n",
       "\n",
       "    .dataframe tbody tr th {\n",
       "        vertical-align: top;\n",
       "    }\n",
       "\n",
       "    .dataframe thead th {\n",
       "        text-align: right;\n",
       "    }\n",
       "</style>\n",
       "<table border=\"1\" class=\"dataframe\">\n",
       "  <thead>\n",
       "    <tr style=\"text-align: right;\">\n",
       "      <th></th>\n",
       "      <th>event</th>\n",
       "      <th>user_count</th>\n",
       "      <th>proportion</th>\n",
       "      <th>share</th>\n",
       "    </tr>\n",
       "  </thead>\n",
       "  <tbody>\n",
       "    <tr>\n",
       "      <th>0</th>\n",
       "      <td>MainScreenAppear</td>\n",
       "      <td>7419</td>\n",
       "      <td>0.984736</td>\n",
       "      <td>NaN</td>\n",
       "    </tr>\n",
       "    <tr>\n",
       "      <th>1</th>\n",
       "      <td>OffersScreenAppear</td>\n",
       "      <td>4593</td>\n",
       "      <td>0.609636</td>\n",
       "      <td>0.619086</td>\n",
       "    </tr>\n",
       "    <tr>\n",
       "      <th>2</th>\n",
       "      <td>CartScreenAppear</td>\n",
       "      <td>3734</td>\n",
       "      <td>0.495620</td>\n",
       "      <td>0.812976</td>\n",
       "    </tr>\n",
       "    <tr>\n",
       "      <th>3</th>\n",
       "      <td>PaymentScreenSuccessful</td>\n",
       "      <td>3539</td>\n",
       "      <td>0.469737</td>\n",
       "      <td>0.947777</td>\n",
       "    </tr>\n",
       "  </tbody>\n",
       "</table>\n",
       "</div>"
      ],
      "text/plain": [
       "                     event  user_count  proportion     share\n",
       "0         MainScreenAppear        7419    0.984736       NaN\n",
       "1       OffersScreenAppear        4593    0.609636  0.619086\n",
       "2         CartScreenAppear        3734    0.495620  0.812976\n",
       "3  PaymentScreenSuccessful        3539    0.469737  0.947777"
      ]
     },
     "execution_count": 50,
     "metadata": {},
     "output_type": "execute_result"
    }
   ],
   "source": [
    "users_steps = users_per_event.query('event != \"Tutorial\"')\n",
    "users_steps['share'] = users_steps['user_count'].div(users_steps['user_count'].shift())\n",
    "users_steps"
   ]
  },
  {
   "cell_type": "code",
   "execution_count": 51,
   "id": "ec56c303",
   "metadata": {
    "scrolled": false
   },
   "outputs": [
    {
     "data": {
      "application/vnd.plotly.v1+json": {
       "config": {
        "plotlyServerURL": "https://plot.ly"
       },
       "data": [
        {
         "textinfo": "value+percent initial+percent previous",
         "textposition": "inside",
         "type": "funnel",
         "x": [
          7419,
          4593,
          3734,
          3539
         ],
         "y": [
          "MainScreenAppear",
          "OffersScreenAppear",
          "CartScreenAppear",
          "PaymentScreenSuccessful"
         ]
        }
       ],
       "layout": {
        "template": {
         "data": {
          "bar": [
           {
            "error_x": {
             "color": "#2a3f5f"
            },
            "error_y": {
             "color": "#2a3f5f"
            },
            "marker": {
             "line": {
              "color": "#E5ECF6",
              "width": 0.5
             },
             "pattern": {
              "fillmode": "overlay",
              "size": 10,
              "solidity": 0.2
             }
            },
            "type": "bar"
           }
          ],
          "barpolar": [
           {
            "marker": {
             "line": {
              "color": "#E5ECF6",
              "width": 0.5
             },
             "pattern": {
              "fillmode": "overlay",
              "size": 10,
              "solidity": 0.2
             }
            },
            "type": "barpolar"
           }
          ],
          "carpet": [
           {
            "aaxis": {
             "endlinecolor": "#2a3f5f",
             "gridcolor": "white",
             "linecolor": "white",
             "minorgridcolor": "white",
             "startlinecolor": "#2a3f5f"
            },
            "baxis": {
             "endlinecolor": "#2a3f5f",
             "gridcolor": "white",
             "linecolor": "white",
             "minorgridcolor": "white",
             "startlinecolor": "#2a3f5f"
            },
            "type": "carpet"
           }
          ],
          "choropleth": [
           {
            "colorbar": {
             "outlinewidth": 0,
             "ticks": ""
            },
            "type": "choropleth"
           }
          ],
          "contour": [
           {
            "colorbar": {
             "outlinewidth": 0,
             "ticks": ""
            },
            "colorscale": [
             [
              0,
              "#0d0887"
             ],
             [
              0.1111111111111111,
              "#46039f"
             ],
             [
              0.2222222222222222,
              "#7201a8"
             ],
             [
              0.3333333333333333,
              "#9c179e"
             ],
             [
              0.4444444444444444,
              "#bd3786"
             ],
             [
              0.5555555555555556,
              "#d8576b"
             ],
             [
              0.6666666666666666,
              "#ed7953"
             ],
             [
              0.7777777777777778,
              "#fb9f3a"
             ],
             [
              0.8888888888888888,
              "#fdca26"
             ],
             [
              1,
              "#f0f921"
             ]
            ],
            "type": "contour"
           }
          ],
          "contourcarpet": [
           {
            "colorbar": {
             "outlinewidth": 0,
             "ticks": ""
            },
            "type": "contourcarpet"
           }
          ],
          "heatmap": [
           {
            "colorbar": {
             "outlinewidth": 0,
             "ticks": ""
            },
            "colorscale": [
             [
              0,
              "#0d0887"
             ],
             [
              0.1111111111111111,
              "#46039f"
             ],
             [
              0.2222222222222222,
              "#7201a8"
             ],
             [
              0.3333333333333333,
              "#9c179e"
             ],
             [
              0.4444444444444444,
              "#bd3786"
             ],
             [
              0.5555555555555556,
              "#d8576b"
             ],
             [
              0.6666666666666666,
              "#ed7953"
             ],
             [
              0.7777777777777778,
              "#fb9f3a"
             ],
             [
              0.8888888888888888,
              "#fdca26"
             ],
             [
              1,
              "#f0f921"
             ]
            ],
            "type": "heatmap"
           }
          ],
          "heatmapgl": [
           {
            "colorbar": {
             "outlinewidth": 0,
             "ticks": ""
            },
            "colorscale": [
             [
              0,
              "#0d0887"
             ],
             [
              0.1111111111111111,
              "#46039f"
             ],
             [
              0.2222222222222222,
              "#7201a8"
             ],
             [
              0.3333333333333333,
              "#9c179e"
             ],
             [
              0.4444444444444444,
              "#bd3786"
             ],
             [
              0.5555555555555556,
              "#d8576b"
             ],
             [
              0.6666666666666666,
              "#ed7953"
             ],
             [
              0.7777777777777778,
              "#fb9f3a"
             ],
             [
              0.8888888888888888,
              "#fdca26"
             ],
             [
              1,
              "#f0f921"
             ]
            ],
            "type": "heatmapgl"
           }
          ],
          "histogram": [
           {
            "marker": {
             "pattern": {
              "fillmode": "overlay",
              "size": 10,
              "solidity": 0.2
             }
            },
            "type": "histogram"
           }
          ],
          "histogram2d": [
           {
            "colorbar": {
             "outlinewidth": 0,
             "ticks": ""
            },
            "colorscale": [
             [
              0,
              "#0d0887"
             ],
             [
              0.1111111111111111,
              "#46039f"
             ],
             [
              0.2222222222222222,
              "#7201a8"
             ],
             [
              0.3333333333333333,
              "#9c179e"
             ],
             [
              0.4444444444444444,
              "#bd3786"
             ],
             [
              0.5555555555555556,
              "#d8576b"
             ],
             [
              0.6666666666666666,
              "#ed7953"
             ],
             [
              0.7777777777777778,
              "#fb9f3a"
             ],
             [
              0.8888888888888888,
              "#fdca26"
             ],
             [
              1,
              "#f0f921"
             ]
            ],
            "type": "histogram2d"
           }
          ],
          "histogram2dcontour": [
           {
            "colorbar": {
             "outlinewidth": 0,
             "ticks": ""
            },
            "colorscale": [
             [
              0,
              "#0d0887"
             ],
             [
              0.1111111111111111,
              "#46039f"
             ],
             [
              0.2222222222222222,
              "#7201a8"
             ],
             [
              0.3333333333333333,
              "#9c179e"
             ],
             [
              0.4444444444444444,
              "#bd3786"
             ],
             [
              0.5555555555555556,
              "#d8576b"
             ],
             [
              0.6666666666666666,
              "#ed7953"
             ],
             [
              0.7777777777777778,
              "#fb9f3a"
             ],
             [
              0.8888888888888888,
              "#fdca26"
             ],
             [
              1,
              "#f0f921"
             ]
            ],
            "type": "histogram2dcontour"
           }
          ],
          "mesh3d": [
           {
            "colorbar": {
             "outlinewidth": 0,
             "ticks": ""
            },
            "type": "mesh3d"
           }
          ],
          "parcoords": [
           {
            "line": {
             "colorbar": {
              "outlinewidth": 0,
              "ticks": ""
             }
            },
            "type": "parcoords"
           }
          ],
          "pie": [
           {
            "automargin": true,
            "type": "pie"
           }
          ],
          "scatter": [
           {
            "marker": {
             "colorbar": {
              "outlinewidth": 0,
              "ticks": ""
             }
            },
            "type": "scatter"
           }
          ],
          "scatter3d": [
           {
            "line": {
             "colorbar": {
              "outlinewidth": 0,
              "ticks": ""
             }
            },
            "marker": {
             "colorbar": {
              "outlinewidth": 0,
              "ticks": ""
             }
            },
            "type": "scatter3d"
           }
          ],
          "scattercarpet": [
           {
            "marker": {
             "colorbar": {
              "outlinewidth": 0,
              "ticks": ""
             }
            },
            "type": "scattercarpet"
           }
          ],
          "scattergeo": [
           {
            "marker": {
             "colorbar": {
              "outlinewidth": 0,
              "ticks": ""
             }
            },
            "type": "scattergeo"
           }
          ],
          "scattergl": [
           {
            "marker": {
             "colorbar": {
              "outlinewidth": 0,
              "ticks": ""
             }
            },
            "type": "scattergl"
           }
          ],
          "scattermapbox": [
           {
            "marker": {
             "colorbar": {
              "outlinewidth": 0,
              "ticks": ""
             }
            },
            "type": "scattermapbox"
           }
          ],
          "scatterpolar": [
           {
            "marker": {
             "colorbar": {
              "outlinewidth": 0,
              "ticks": ""
             }
            },
            "type": "scatterpolar"
           }
          ],
          "scatterpolargl": [
           {
            "marker": {
             "colorbar": {
              "outlinewidth": 0,
              "ticks": ""
             }
            },
            "type": "scatterpolargl"
           }
          ],
          "scatterternary": [
           {
            "marker": {
             "colorbar": {
              "outlinewidth": 0,
              "ticks": ""
             }
            },
            "type": "scatterternary"
           }
          ],
          "surface": [
           {
            "colorbar": {
             "outlinewidth": 0,
             "ticks": ""
            },
            "colorscale": [
             [
              0,
              "#0d0887"
             ],
             [
              0.1111111111111111,
              "#46039f"
             ],
             [
              0.2222222222222222,
              "#7201a8"
             ],
             [
              0.3333333333333333,
              "#9c179e"
             ],
             [
              0.4444444444444444,
              "#bd3786"
             ],
             [
              0.5555555555555556,
              "#d8576b"
             ],
             [
              0.6666666666666666,
              "#ed7953"
             ],
             [
              0.7777777777777778,
              "#fb9f3a"
             ],
             [
              0.8888888888888888,
              "#fdca26"
             ],
             [
              1,
              "#f0f921"
             ]
            ],
            "type": "surface"
           }
          ],
          "table": [
           {
            "cells": {
             "fill": {
              "color": "#EBF0F8"
             },
             "line": {
              "color": "white"
             }
            },
            "header": {
             "fill": {
              "color": "#C8D4E3"
             },
             "line": {
              "color": "white"
             }
            },
            "type": "table"
           }
          ]
         },
         "layout": {
          "annotationdefaults": {
           "arrowcolor": "#2a3f5f",
           "arrowhead": 0,
           "arrowwidth": 1
          },
          "autotypenumbers": "strict",
          "coloraxis": {
           "colorbar": {
            "outlinewidth": 0,
            "ticks": ""
           }
          },
          "colorscale": {
           "diverging": [
            [
             0,
             "#8e0152"
            ],
            [
             0.1,
             "#c51b7d"
            ],
            [
             0.2,
             "#de77ae"
            ],
            [
             0.3,
             "#f1b6da"
            ],
            [
             0.4,
             "#fde0ef"
            ],
            [
             0.5,
             "#f7f7f7"
            ],
            [
             0.6,
             "#e6f5d0"
            ],
            [
             0.7,
             "#b8e186"
            ],
            [
             0.8,
             "#7fbc41"
            ],
            [
             0.9,
             "#4d9221"
            ],
            [
             1,
             "#276419"
            ]
           ],
           "sequential": [
            [
             0,
             "#0d0887"
            ],
            [
             0.1111111111111111,
             "#46039f"
            ],
            [
             0.2222222222222222,
             "#7201a8"
            ],
            [
             0.3333333333333333,
             "#9c179e"
            ],
            [
             0.4444444444444444,
             "#bd3786"
            ],
            [
             0.5555555555555556,
             "#d8576b"
            ],
            [
             0.6666666666666666,
             "#ed7953"
            ],
            [
             0.7777777777777778,
             "#fb9f3a"
            ],
            [
             0.8888888888888888,
             "#fdca26"
            ],
            [
             1,
             "#f0f921"
            ]
           ],
           "sequentialminus": [
            [
             0,
             "#0d0887"
            ],
            [
             0.1111111111111111,
             "#46039f"
            ],
            [
             0.2222222222222222,
             "#7201a8"
            ],
            [
             0.3333333333333333,
             "#9c179e"
            ],
            [
             0.4444444444444444,
             "#bd3786"
            ],
            [
             0.5555555555555556,
             "#d8576b"
            ],
            [
             0.6666666666666666,
             "#ed7953"
            ],
            [
             0.7777777777777778,
             "#fb9f3a"
            ],
            [
             0.8888888888888888,
             "#fdca26"
            ],
            [
             1,
             "#f0f921"
            ]
           ]
          },
          "colorway": [
           "#636efa",
           "#EF553B",
           "#00cc96",
           "#ab63fa",
           "#FFA15A",
           "#19d3f3",
           "#FF6692",
           "#B6E880",
           "#FF97FF",
           "#FECB52"
          ],
          "font": {
           "color": "#2a3f5f"
          },
          "geo": {
           "bgcolor": "white",
           "lakecolor": "white",
           "landcolor": "#E5ECF6",
           "showlakes": true,
           "showland": true,
           "subunitcolor": "white"
          },
          "hoverlabel": {
           "align": "left"
          },
          "hovermode": "closest",
          "mapbox": {
           "style": "light"
          },
          "paper_bgcolor": "white",
          "plot_bgcolor": "#E5ECF6",
          "polar": {
           "angularaxis": {
            "gridcolor": "white",
            "linecolor": "white",
            "ticks": ""
           },
           "bgcolor": "#E5ECF6",
           "radialaxis": {
            "gridcolor": "white",
            "linecolor": "white",
            "ticks": ""
           }
          },
          "scene": {
           "xaxis": {
            "backgroundcolor": "#E5ECF6",
            "gridcolor": "white",
            "gridwidth": 2,
            "linecolor": "white",
            "showbackground": true,
            "ticks": "",
            "zerolinecolor": "white"
           },
           "yaxis": {
            "backgroundcolor": "#E5ECF6",
            "gridcolor": "white",
            "gridwidth": 2,
            "linecolor": "white",
            "showbackground": true,
            "ticks": "",
            "zerolinecolor": "white"
           },
           "zaxis": {
            "backgroundcolor": "#E5ECF6",
            "gridcolor": "white",
            "gridwidth": 2,
            "linecolor": "white",
            "showbackground": true,
            "ticks": "",
            "zerolinecolor": "white"
           }
          },
          "shapedefaults": {
           "line": {
            "color": "#2a3f5f"
           }
          },
          "ternary": {
           "aaxis": {
            "gridcolor": "white",
            "linecolor": "white",
            "ticks": ""
           },
           "baxis": {
            "gridcolor": "white",
            "linecolor": "white",
            "ticks": ""
           },
           "bgcolor": "#E5ECF6",
           "caxis": {
            "gridcolor": "white",
            "linecolor": "white",
            "ticks": ""
           }
          },
          "title": {
           "x": 0.05
          },
          "xaxis": {
           "automargin": true,
           "gridcolor": "white",
           "linecolor": "white",
           "ticks": "",
           "title": {
            "standoff": 15
           },
           "zerolinecolor": "white",
           "zerolinewidth": 2
          },
          "yaxis": {
           "automargin": true,
           "gridcolor": "white",
           "linecolor": "white",
           "ticks": "",
           "title": {
            "standoff": 15
           },
           "zerolinecolor": "white",
           "zerolinewidth": 2
          }
         }
        }
       }
      },
      "text/html": [
       "<div>                            <div id=\"69faf020-a7f2-45d7-8131-02d7b393da44\" class=\"plotly-graph-div\" style=\"height:525px; width:100%;\"></div>            <script type=\"text/javascript\">                require([\"plotly\"], function(Plotly) {                    window.PLOTLYENV=window.PLOTLYENV || {};                                    if (document.getElementById(\"69faf020-a7f2-45d7-8131-02d7b393da44\")) {                    Plotly.newPlot(                        \"69faf020-a7f2-45d7-8131-02d7b393da44\",                        [{\"textinfo\":\"value+percent initial+percent previous\",\"textposition\":\"inside\",\"x\":[7419,4593,3734,3539],\"y\":[\"MainScreenAppear\",\"OffersScreenAppear\",\"CartScreenAppear\",\"PaymentScreenSuccessful\"],\"type\":\"funnel\"}],                        {\"template\":{\"data\":{\"bar\":[{\"error_x\":{\"color\":\"#2a3f5f\"},\"error_y\":{\"color\":\"#2a3f5f\"},\"marker\":{\"line\":{\"color\":\"#E5ECF6\",\"width\":0.5},\"pattern\":{\"fillmode\":\"overlay\",\"size\":10,\"solidity\":0.2}},\"type\":\"bar\"}],\"barpolar\":[{\"marker\":{\"line\":{\"color\":\"#E5ECF6\",\"width\":0.5},\"pattern\":{\"fillmode\":\"overlay\",\"size\":10,\"solidity\":0.2}},\"type\":\"barpolar\"}],\"carpet\":[{\"aaxis\":{\"endlinecolor\":\"#2a3f5f\",\"gridcolor\":\"white\",\"linecolor\":\"white\",\"minorgridcolor\":\"white\",\"startlinecolor\":\"#2a3f5f\"},\"baxis\":{\"endlinecolor\":\"#2a3f5f\",\"gridcolor\":\"white\",\"linecolor\":\"white\",\"minorgridcolor\":\"white\",\"startlinecolor\":\"#2a3f5f\"},\"type\":\"carpet\"}],\"choropleth\":[{\"colorbar\":{\"outlinewidth\":0,\"ticks\":\"\"},\"type\":\"choropleth\"}],\"contour\":[{\"colorbar\":{\"outlinewidth\":0,\"ticks\":\"\"},\"colorscale\":[[0.0,\"#0d0887\"],[0.1111111111111111,\"#46039f\"],[0.2222222222222222,\"#7201a8\"],[0.3333333333333333,\"#9c179e\"],[0.4444444444444444,\"#bd3786\"],[0.5555555555555556,\"#d8576b\"],[0.6666666666666666,\"#ed7953\"],[0.7777777777777778,\"#fb9f3a\"],[0.8888888888888888,\"#fdca26\"],[1.0,\"#f0f921\"]],\"type\":\"contour\"}],\"contourcarpet\":[{\"colorbar\":{\"outlinewidth\":0,\"ticks\":\"\"},\"type\":\"contourcarpet\"}],\"heatmap\":[{\"colorbar\":{\"outlinewidth\":0,\"ticks\":\"\"},\"colorscale\":[[0.0,\"#0d0887\"],[0.1111111111111111,\"#46039f\"],[0.2222222222222222,\"#7201a8\"],[0.3333333333333333,\"#9c179e\"],[0.4444444444444444,\"#bd3786\"],[0.5555555555555556,\"#d8576b\"],[0.6666666666666666,\"#ed7953\"],[0.7777777777777778,\"#fb9f3a\"],[0.8888888888888888,\"#fdca26\"],[1.0,\"#f0f921\"]],\"type\":\"heatmap\"}],\"heatmapgl\":[{\"colorbar\":{\"outlinewidth\":0,\"ticks\":\"\"},\"colorscale\":[[0.0,\"#0d0887\"],[0.1111111111111111,\"#46039f\"],[0.2222222222222222,\"#7201a8\"],[0.3333333333333333,\"#9c179e\"],[0.4444444444444444,\"#bd3786\"],[0.5555555555555556,\"#d8576b\"],[0.6666666666666666,\"#ed7953\"],[0.7777777777777778,\"#fb9f3a\"],[0.8888888888888888,\"#fdca26\"],[1.0,\"#f0f921\"]],\"type\":\"heatmapgl\"}],\"histogram\":[{\"marker\":{\"pattern\":{\"fillmode\":\"overlay\",\"size\":10,\"solidity\":0.2}},\"type\":\"histogram\"}],\"histogram2d\":[{\"colorbar\":{\"outlinewidth\":0,\"ticks\":\"\"},\"colorscale\":[[0.0,\"#0d0887\"],[0.1111111111111111,\"#46039f\"],[0.2222222222222222,\"#7201a8\"],[0.3333333333333333,\"#9c179e\"],[0.4444444444444444,\"#bd3786\"],[0.5555555555555556,\"#d8576b\"],[0.6666666666666666,\"#ed7953\"],[0.7777777777777778,\"#fb9f3a\"],[0.8888888888888888,\"#fdca26\"],[1.0,\"#f0f921\"]],\"type\":\"histogram2d\"}],\"histogram2dcontour\":[{\"colorbar\":{\"outlinewidth\":0,\"ticks\":\"\"},\"colorscale\":[[0.0,\"#0d0887\"],[0.1111111111111111,\"#46039f\"],[0.2222222222222222,\"#7201a8\"],[0.3333333333333333,\"#9c179e\"],[0.4444444444444444,\"#bd3786\"],[0.5555555555555556,\"#d8576b\"],[0.6666666666666666,\"#ed7953\"],[0.7777777777777778,\"#fb9f3a\"],[0.8888888888888888,\"#fdca26\"],[1.0,\"#f0f921\"]],\"type\":\"histogram2dcontour\"}],\"mesh3d\":[{\"colorbar\":{\"outlinewidth\":0,\"ticks\":\"\"},\"type\":\"mesh3d\"}],\"parcoords\":[{\"line\":{\"colorbar\":{\"outlinewidth\":0,\"ticks\":\"\"}},\"type\":\"parcoords\"}],\"pie\":[{\"automargin\":true,\"type\":\"pie\"}],\"scatter\":[{\"marker\":{\"colorbar\":{\"outlinewidth\":0,\"ticks\":\"\"}},\"type\":\"scatter\"}],\"scatter3d\":[{\"line\":{\"colorbar\":{\"outlinewidth\":0,\"ticks\":\"\"}},\"marker\":{\"colorbar\":{\"outlinewidth\":0,\"ticks\":\"\"}},\"type\":\"scatter3d\"}],\"scattercarpet\":[{\"marker\":{\"colorbar\":{\"outlinewidth\":0,\"ticks\":\"\"}},\"type\":\"scattercarpet\"}],\"scattergeo\":[{\"marker\":{\"colorbar\":{\"outlinewidth\":0,\"ticks\":\"\"}},\"type\":\"scattergeo\"}],\"scattergl\":[{\"marker\":{\"colorbar\":{\"outlinewidth\":0,\"ticks\":\"\"}},\"type\":\"scattergl\"}],\"scattermapbox\":[{\"marker\":{\"colorbar\":{\"outlinewidth\":0,\"ticks\":\"\"}},\"type\":\"scattermapbox\"}],\"scatterpolar\":[{\"marker\":{\"colorbar\":{\"outlinewidth\":0,\"ticks\":\"\"}},\"type\":\"scatterpolar\"}],\"scatterpolargl\":[{\"marker\":{\"colorbar\":{\"outlinewidth\":0,\"ticks\":\"\"}},\"type\":\"scatterpolargl\"}],\"scatterternary\":[{\"marker\":{\"colorbar\":{\"outlinewidth\":0,\"ticks\":\"\"}},\"type\":\"scatterternary\"}],\"surface\":[{\"colorbar\":{\"outlinewidth\":0,\"ticks\":\"\"},\"colorscale\":[[0.0,\"#0d0887\"],[0.1111111111111111,\"#46039f\"],[0.2222222222222222,\"#7201a8\"],[0.3333333333333333,\"#9c179e\"],[0.4444444444444444,\"#bd3786\"],[0.5555555555555556,\"#d8576b\"],[0.6666666666666666,\"#ed7953\"],[0.7777777777777778,\"#fb9f3a\"],[0.8888888888888888,\"#fdca26\"],[1.0,\"#f0f921\"]],\"type\":\"surface\"}],\"table\":[{\"cells\":{\"fill\":{\"color\":\"#EBF0F8\"},\"line\":{\"color\":\"white\"}},\"header\":{\"fill\":{\"color\":\"#C8D4E3\"},\"line\":{\"color\":\"white\"}},\"type\":\"table\"}]},\"layout\":{\"annotationdefaults\":{\"arrowcolor\":\"#2a3f5f\",\"arrowhead\":0,\"arrowwidth\":1},\"autotypenumbers\":\"strict\",\"coloraxis\":{\"colorbar\":{\"outlinewidth\":0,\"ticks\":\"\"}},\"colorscale\":{\"diverging\":[[0,\"#8e0152\"],[0.1,\"#c51b7d\"],[0.2,\"#de77ae\"],[0.3,\"#f1b6da\"],[0.4,\"#fde0ef\"],[0.5,\"#f7f7f7\"],[0.6,\"#e6f5d0\"],[0.7,\"#b8e186\"],[0.8,\"#7fbc41\"],[0.9,\"#4d9221\"],[1,\"#276419\"]],\"sequential\":[[0.0,\"#0d0887\"],[0.1111111111111111,\"#46039f\"],[0.2222222222222222,\"#7201a8\"],[0.3333333333333333,\"#9c179e\"],[0.4444444444444444,\"#bd3786\"],[0.5555555555555556,\"#d8576b\"],[0.6666666666666666,\"#ed7953\"],[0.7777777777777778,\"#fb9f3a\"],[0.8888888888888888,\"#fdca26\"],[1.0,\"#f0f921\"]],\"sequentialminus\":[[0.0,\"#0d0887\"],[0.1111111111111111,\"#46039f\"],[0.2222222222222222,\"#7201a8\"],[0.3333333333333333,\"#9c179e\"],[0.4444444444444444,\"#bd3786\"],[0.5555555555555556,\"#d8576b\"],[0.6666666666666666,\"#ed7953\"],[0.7777777777777778,\"#fb9f3a\"],[0.8888888888888888,\"#fdca26\"],[1.0,\"#f0f921\"]]},\"colorway\":[\"#636efa\",\"#EF553B\",\"#00cc96\",\"#ab63fa\",\"#FFA15A\",\"#19d3f3\",\"#FF6692\",\"#B6E880\",\"#FF97FF\",\"#FECB52\"],\"font\":{\"color\":\"#2a3f5f\"},\"geo\":{\"bgcolor\":\"white\",\"lakecolor\":\"white\",\"landcolor\":\"#E5ECF6\",\"showlakes\":true,\"showland\":true,\"subunitcolor\":\"white\"},\"hoverlabel\":{\"align\":\"left\"},\"hovermode\":\"closest\",\"mapbox\":{\"style\":\"light\"},\"paper_bgcolor\":\"white\",\"plot_bgcolor\":\"#E5ECF6\",\"polar\":{\"angularaxis\":{\"gridcolor\":\"white\",\"linecolor\":\"white\",\"ticks\":\"\"},\"bgcolor\":\"#E5ECF6\",\"radialaxis\":{\"gridcolor\":\"white\",\"linecolor\":\"white\",\"ticks\":\"\"}},\"scene\":{\"xaxis\":{\"backgroundcolor\":\"#E5ECF6\",\"gridcolor\":\"white\",\"gridwidth\":2,\"linecolor\":\"white\",\"showbackground\":true,\"ticks\":\"\",\"zerolinecolor\":\"white\"},\"yaxis\":{\"backgroundcolor\":\"#E5ECF6\",\"gridcolor\":\"white\",\"gridwidth\":2,\"linecolor\":\"white\",\"showbackground\":true,\"ticks\":\"\",\"zerolinecolor\":\"white\"},\"zaxis\":{\"backgroundcolor\":\"#E5ECF6\",\"gridcolor\":\"white\",\"gridwidth\":2,\"linecolor\":\"white\",\"showbackground\":true,\"ticks\":\"\",\"zerolinecolor\":\"white\"}},\"shapedefaults\":{\"line\":{\"color\":\"#2a3f5f\"}},\"ternary\":{\"aaxis\":{\"gridcolor\":\"white\",\"linecolor\":\"white\",\"ticks\":\"\"},\"baxis\":{\"gridcolor\":\"white\",\"linecolor\":\"white\",\"ticks\":\"\"},\"bgcolor\":\"#E5ECF6\",\"caxis\":{\"gridcolor\":\"white\",\"linecolor\":\"white\",\"ticks\":\"\"}},\"title\":{\"x\":0.05},\"xaxis\":{\"automargin\":true,\"gridcolor\":\"white\",\"linecolor\":\"white\",\"ticks\":\"\",\"title\":{\"standoff\":15},\"zerolinecolor\":\"white\",\"zerolinewidth\":2},\"yaxis\":{\"automargin\":true,\"gridcolor\":\"white\",\"linecolor\":\"white\",\"ticks\":\"\",\"title\":{\"standoff\":15},\"zerolinecolor\":\"white\",\"zerolinewidth\":2}}}},                        {\"responsive\": true}                    ).then(function(){\n",
       "                            \n",
       "var gd = document.getElementById('69faf020-a7f2-45d7-8131-02d7b393da44');\n",
       "var x = new MutationObserver(function (mutations, observer) {{\n",
       "        var display = window.getComputedStyle(gd).display;\n",
       "        if (!display || display === 'none') {{\n",
       "            console.log([gd, 'removed!']);\n",
       "            Plotly.purge(gd);\n",
       "            observer.disconnect();\n",
       "        }}\n",
       "}});\n",
       "\n",
       "// Listen for the removal of the full notebook cells\n",
       "var notebookContainer = gd.closest('#notebook-container');\n",
       "if (notebookContainer) {{\n",
       "    x.observe(notebookContainer, {childList: true});\n",
       "}}\n",
       "\n",
       "// Listen for the clearing of the current output cell\n",
       "var outputEl = gd.closest('.output');\n",
       "if (outputEl) {{\n",
       "    x.observe(outputEl, {childList: true});\n",
       "}}\n",
       "\n",
       "                        })                };                });            </script>        </div>"
      ]
     },
     "metadata": {},
     "output_type": "display_data"
    }
   ],
   "source": [
    "fig = go.Figure(go.Funnel(\n",
    "    y = users_steps['event'],\n",
    "    x = users_steps['user_count'],\n",
    "    textposition = 'inside',\n",
    "    textinfo = 'value+percent initial+percent previous'))\n",
    "\n",
    "fig.show()"
   ]
  },
  {
   "cell_type": "markdown",
   "id": "739f3cb5",
   "metadata": {},
   "source": [
    "We see we lose the most users between the Main screen and The offer screen.\n",
    "\n",
    "We can also see 48% of users go through the entire path, from entering the app to payment."
   ]
  },
  {
   "cell_type": "markdown",
   "id": "76e8c9dd",
   "metadata": {},
   "source": [
    "## A/A/B results"
   ]
  },
  {
   "cell_type": "markdown",
   "id": "df34620a",
   "metadata": {},
   "source": [
    "Here we shall discuss the results for the attempt at changing the app's font.\n",
    "\n",
    "First, lets remind ourselves of our group sizes-"
   ]
  },
  {
   "cell_type": "code",
   "execution_count": 52,
   "id": "69f29315",
   "metadata": {},
   "outputs": [
    {
     "data": {
      "text/html": [
       "<div>\n",
       "<style scoped>\n",
       "    .dataframe tbody tr th:only-of-type {\n",
       "        vertical-align: middle;\n",
       "    }\n",
       "\n",
       "    .dataframe tbody tr th {\n",
       "        vertical-align: top;\n",
       "    }\n",
       "\n",
       "    .dataframe thead th {\n",
       "        text-align: right;\n",
       "    }\n",
       "</style>\n",
       "<table border=\"1\" class=\"dataframe\">\n",
       "  <thead>\n",
       "    <tr style=\"text-align: right;\">\n",
       "      <th></th>\n",
       "      <th>group</th>\n",
       "      <th>group_size</th>\n",
       "    </tr>\n",
       "  </thead>\n",
       "  <tbody>\n",
       "    <tr>\n",
       "      <th>0</th>\n",
       "      <td>246</td>\n",
       "      <td>2483</td>\n",
       "    </tr>\n",
       "    <tr>\n",
       "      <th>1</th>\n",
       "      <td>247</td>\n",
       "      <td>2512</td>\n",
       "    </tr>\n",
       "    <tr>\n",
       "      <th>2</th>\n",
       "      <td>248</td>\n",
       "      <td>2535</td>\n",
       "    </tr>\n",
       "  </tbody>\n",
       "</table>\n",
       "</div>"
      ],
      "text/plain": [
       "  group  group_size\n",
       "0   246        2483\n",
       "1   247        2512\n",
       "2   248        2535"
      ]
     },
     "execution_count": 52,
     "metadata": {},
     "output_type": "execute_result"
    }
   ],
   "source": [
    "group_sizes = exp_filt.groupby('group').agg({'user_id' : 'nunique'}).reset_index()\n",
    "group_sizes.columns = ['group','group_size']\n",
    "group_sizes"
   ]
  },
  {
   "cell_type": "markdown",
   "id": "eae54418",
   "metadata": {},
   "source": [
    "To better percieve the changes the switched font may have created, first we shall compare out two control groups, to see how much change is expected between any two seperate groups- if we find a statisticaly significant difference between them, that same condition cannot be compared to group B (248) with any certainty as to the results.\n",
    "\n",
    "Narrowing scope to the events that is the most common- entering the main page."
   ]
  },
  {
   "cell_type": "code",
   "execution_count": 53,
   "id": "a7170b72",
   "metadata": {},
   "outputs": [],
   "source": [
    "def aa_diff_find(event):\n",
    "    AA_event_users = exp_filt.query('event == @event').groupby('group').agg({'user_id':'nunique'}).reset_index()\n",
    "    AA_event_users = AA_event_users.merge(group_sizes)\n",
    "    AA_event_users['share'] = AA_event_users['user_id'] / AA_event_users['group_size']\n",
    "    diffaa = 1 - (AA_event_users.iloc[1,3] / AA_event_users.iloc[0,3])\n",
    "    return diffaa"
   ]
  },
  {
   "cell_type": "code",
   "execution_count": 54,
   "id": "2c532e40",
   "metadata": {},
   "outputs": [
    {
     "data": {
      "text/plain": [
       "0.0010548550630443687"
      ]
     },
     "execution_count": 54,
     "metadata": {},
     "output_type": "execute_result"
    }
   ],
   "source": [
    "aa_diff_find('MainScreenAppear')"
   ]
  },
  {
   "cell_type": "markdown",
   "id": "5aef6aa9",
   "metadata": {},
   "source": [
    "There is a 0.1% difference in shares between control groups, well within a reasonable margin for error.\n",
    "With the function built, same comparison can be made for the other events:"
   ]
  },
  {
   "cell_type": "code",
   "execution_count": 55,
   "id": "e4105071",
   "metadata": {},
   "outputs": [
    {
     "name": "stdout",
     "output_type": "stream",
     "text": [
      "Difference in shares for Offers screen: 0.025647062711178337\n",
      "Difference in shares for Cart screen: 0.03340615912498379\n",
      "Difference in shares for Payment Successful screen: 0.04614052547770697\n"
     ]
    }
   ],
   "source": [
    "print('Difference in shares for Offers screen:', aa_diff_find('OffersScreenAppear'))\n",
    "print('Difference in shares for Cart screen:', aa_diff_find('CartScreenAppear'))\n",
    "print('Difference in shares for Payment Successful screen:', aa_diff_find('PaymentScreenSuccessful'))"
   ]
  },
  {
   "cell_type": "markdown",
   "id": "cb1d6ab8",
   "metadata": {},
   "source": [
    "All differences are under 5%- again under a reasonable margin. The differences are supposed to be getting bigger from step to step (except Tutorial), as users have a mendatory series of events, so the difference \"carries over\" to the next step. "
   ]
  },
  {
   "cell_type": "markdown",
   "id": "8af9cae1",
   "metadata": {},
   "source": [
    "Now a different function will be built to carry on a z-proportions test for the coversion between each pair of steps, for any 2 given groups."
   ]
  },
  {
   "cell_type": "markdown",
   "id": "efc76c88",
   "metadata": {},
   "source": [
    "Testing hypothesis:\n",
    "\n",
    "    H0: Proportions between steps are equal\n",
    "    H1: Proportions between steps aren't equal"
   ]
  },
  {
   "cell_type": "code",
   "execution_count": 56,
   "id": "7e358725",
   "metadata": {},
   "outputs": [],
   "source": [
    "#Setting alpha value outside of function, so it can be changed at any time:\n",
    "alpha = 0.0042\n",
    "\n",
    "def z_tester_id(group1 , group2):\n",
    "    #Counting trials & successes for group1:\n",
    "    users_per_event_group1 = (exp_filt.query('group == @group1').groupby('event')\n",
    "                   .agg({'user_id' : 'nunique'})\n",
    "                   .sort_values(by = 'user_id', ascending = False)\n",
    "                   .reset_index()\n",
    "                  )\n",
    "    trials_group1_main_offers = users_per_event_group1.iloc[0,1]\n",
    "    successes_group1_main_offers = users_per_event_group1.iloc[1,1]\n",
    "    \n",
    "    trials_group1_offers_cart = users_per_event_group1.iloc[1,1]\n",
    "    successes_group1_offers_cart = users_per_event_group1.iloc[2,1]\n",
    "    \n",
    "    trials_group1_cart_payment = users_per_event_group1.iloc[2,1]\n",
    "    successes_group1_cart_payment = users_per_event_group1.iloc[3,1]\n",
    "\n",
    "    #Counting trials & successes for group2:\n",
    "    users_per_event_group2 = (exp_filt.query('group == @group2').groupby('event')\n",
    "                   .agg({'user_id' : 'nunique'})\n",
    "                   .sort_values(by = 'user_id', ascending = False)\n",
    "                   .reset_index()\n",
    "                  )\n",
    "    trials_group2_main_offers = users_per_event_group2.iloc[0,1]\n",
    "    successes_group2_main_offers = users_per_event_group2.iloc[1,1]\n",
    "    \n",
    "    trials_group2_offers_cart = users_per_event_group2.iloc[1,1]\n",
    "    successes_group2_offers_cart = users_per_event_group2.iloc[2,1]\n",
    "    \n",
    "    trials_group2_cart_payment = users_per_event_group2.iloc[2,1]\n",
    "    successes_group2_cart_payment = users_per_event_group2.iloc[3,1]\n",
    "    \n",
    "    #Testing hypothesis for every step's conversion:\n",
    "\n",
    "    p1 = successes_group1_main_offers / trials_group1_main_offers\n",
    "    p2 = successes_group2_main_offers / trials_group2_main_offers\n",
    "    p_combined = (successes_group1_main_offers + successes_group2_main_offers) / (trials_group1_main_offers + trials_group2_main_offers)\n",
    "    difference = p1-p2\n",
    "    z_value = difference / mth.sqrt(p_combined * (1 - p_combined) * (1/trials_group1_main_offers + 1/trials_group2_main_offers))\n",
    "    distr = st.norm(0, 1) \n",
    "    p_value = (1 - distr.cdf(abs(z_value))) * 2\n",
    "    print('p-value: ', p_value)\n",
    "    if (p_value < alpha):\n",
    "        print(\"Rejecting the null hypothesis: there is a significant difference between the proportions in conversion between Main and Offer steps\")\n",
    "    else:\n",
    "        print(\"Failed to reject the null hypothesis: there is no reason to consider the proportions in conversion between Main and Offer steps different\")\n",
    "    \n",
    "    p1 = successes_group1_offers_cart / trials_group1_offers_cart\n",
    "    p2 = successes_group2_offers_cart / trials_group2_offers_cart\n",
    "    p_combined = (successes_group1_offers_cart + successes_group2_offers_cart) / (trials_group1_offers_cart + trials_group2_offers_cart)\n",
    "    difference = p1-p2\n",
    "    z_value = difference / mth.sqrt(p_combined * (1 - p_combined) * (1/trials_group1_offers_cart + 1/trials_group2_offers_cart))\n",
    "    distr = st.norm(0, 1) \n",
    "    p_value = (1 - distr.cdf(abs(z_value))) * 2\n",
    "    print('p-value: ', p_value)\n",
    "\n",
    "    if (p_value < alpha):\n",
    "        print(\"Rejecting the null hypothesis: there is a significant difference between the proportions in conversion between Offer and Cart steps\")\n",
    "    else:\n",
    "        print(\"Failed to reject the null hypothesis: there is no reason to consider the proportions in conversion between Offer and Cart steps different\")\n",
    "        \n",
    "    \n",
    "    p1 = successes_group1_cart_payment / trials_group1_cart_payment\n",
    "    p2 = successes_group2_cart_payment / trials_group2_cart_payment\n",
    "    p_combined = (successes_group1_cart_payment + successes_group2_cart_payment) / (trials_group1_cart_payment + trials_group2_cart_payment)\n",
    "    difference = p1-p2\n",
    "    z_value = difference / mth.sqrt(p_combined * (1 - p_combined) * (1/trials_group1_cart_payment + 1/trials_group2_cart_payment))\n",
    "    distr = st.norm(0, 1) \n",
    "    p_value = (1 - distr.cdf(abs(z_value))) * 2\n",
    "    print('p-value: ', p_value)\n",
    "    \n",
    "    if (p_value < alpha):\n",
    "        print(\"Rejecting the null hypothesis: there is a significant difference between the proportions in conversion between Cart and Payment steps\")\n",
    "    else:\n",
    "        print(\"Failed to reject the null hypothesis: there is no reason to consider the proportions in conversion between Cart and Payment steps different\")"
   ]
  },
  {
   "cell_type": "code",
   "execution_count": 57,
   "id": "40405883",
   "metadata": {
    "scrolled": true
   },
   "outputs": [
    {
     "name": "stdout",
     "output_type": "stream",
     "text": [
      "p-value:  0.2622344959255778\n",
      "Failed to reject the null hypothesis: there is no reason to consider the proportions in conversion between Main and Offer steps different\n",
      "p-value:  0.6393754713145263\n",
      "Failed to reject the null hypothesis: there is no reason to consider the proportions in conversion between Offer and Cart steps different\n",
      "p-value:  0.18243439408067652\n",
      "Failed to reject the null hypothesis: there is no reason to consider the proportions in conversion between Cart and Payment steps different\n"
     ]
    }
   ],
   "source": [
    "z_tester_id('246', '247')"
   ]
  },
  {
   "cell_type": "markdown",
   "id": "51c32053",
   "metadata": {},
   "source": [
    "We see that we have no reason to assume the groups are different, judging by the conversion in each step."
   ]
  },
  {
   "cell_type": "markdown",
   "id": "d769e416",
   "metadata": {},
   "source": [
    "The same function can be used to test each of our A groups (246 & 247) against our B group (248):"
   ]
  },
  {
   "cell_type": "code",
   "execution_count": 58,
   "id": "ecd7c8cd",
   "metadata": {
    "scrolled": true
   },
   "outputs": [
    {
     "name": "stdout",
     "output_type": "stream",
     "text": [
      "p-value:  0.2684281587249231\n",
      "Failed to reject the null hypothesis: there is no reason to consider the proportions in conversion between Main and Offer steps different\n",
      "p-value:  0.2112170818054686\n",
      "Failed to reject the null hypothesis: there is no reason to consider the proportions in conversion between Offer and Cart steps different\n",
      "p-value:  0.14295341270419004\n",
      "Failed to reject the null hypothesis: there is no reason to consider the proportions in conversion between Cart and Payment steps different\n"
     ]
    }
   ],
   "source": [
    "z_tester_id('246', '248')"
   ]
  },
  {
   "cell_type": "code",
   "execution_count": 59,
   "id": "5557a6a3",
   "metadata": {
    "scrolled": true
   },
   "outputs": [
    {
     "name": "stdout",
     "output_type": "stream",
     "text": [
      "p-value:  0.9869365252844515\n",
      "Failed to reject the null hypothesis: there is no reason to consider the proportions in conversion between Main and Offer steps different\n",
      "p-value:  0.4364903513062255\n",
      "Failed to reject the null hypothesis: there is no reason to consider the proportions in conversion between Offer and Cart steps different\n",
      "p-value:  0.005677465395736325\n",
      "Failed to reject the null hypothesis: there is no reason to consider the proportions in conversion between Cart and Payment steps different\n"
     ]
    }
   ],
   "source": [
    "z_tester_id('247', '248')"
   ]
  },
  {
   "cell_type": "markdown",
   "id": "ee97b791",
   "metadata": {},
   "source": [
    "We see amongst all hypothesis, there are no statistically significant differences in proportions.\n",
    "To make sure we are not missing any changes, we need to perform the same tests, but for the combined A group:"
   ]
  },
  {
   "cell_type": "code",
   "execution_count": 60,
   "id": "415d2c40",
   "metadata": {},
   "outputs": [],
   "source": [
    "#Adding grouping to combine two control groups into 'A'\n",
    "id_data = [['246', 'A'], ['247', 'A'], ['248', 'B']]\n",
    "exp_id = pd.DataFrame(id_data, columns = ['group', 'ab_group'])\n",
    "exp_filt = exp_filt.merge(exp_id)"
   ]
  },
  {
   "cell_type": "code",
   "execution_count": 61,
   "id": "e4149be0",
   "metadata": {},
   "outputs": [],
   "source": [
    "#Defining same function, only changing the arguments recieved:\n",
    "def z_tester_group(abgroup1 , abgroup2):\n",
    "    #Counting trials & successes for group1:\n",
    "    users_per_event_group1 = (exp_filt.query('ab_group == @abgroup1').groupby('event')\n",
    "                   .agg({'user_id' : 'nunique'})\n",
    "                   .sort_values(by = 'user_id', ascending = False)\n",
    "                   .reset_index()\n",
    "                  )\n",
    "    trials_group1_main_offers = users_per_event_group1.iloc[0,1]\n",
    "    successes_group1_main_offers = users_per_event_group1.iloc[1,1]\n",
    "    \n",
    "    trials_group1_offers_cart = users_per_event_group1.iloc[1,1]\n",
    "    successes_group1_offers_cart = users_per_event_group1.iloc[2,1]\n",
    "    \n",
    "    trials_group1_cart_payment = users_per_event_group1.iloc[2,1]\n",
    "    successes_group1_cart_payment = users_per_event_group1.iloc[3,1]\n",
    "\n",
    "    #Counting trials & successes for group2:\n",
    "    users_per_event_group2 = (exp_filt.query('ab_group == @abgroup2').groupby('event')\n",
    "                   .agg({'user_id' : 'nunique'})\n",
    "                   .sort_values(by = 'user_id', ascending = False)\n",
    "                   .reset_index()\n",
    "                  )\n",
    "    trials_group2_main_offers = users_per_event_group2.iloc[0,1]\n",
    "    successes_group2_main_offers = users_per_event_group2.iloc[1,1]\n",
    "    \n",
    "    trials_group2_offers_cart = users_per_event_group2.iloc[1,1]\n",
    "    successes_group2_offers_cart = users_per_event_group2.iloc[2,1]\n",
    "    \n",
    "    trials_group2_cart_payment = users_per_event_group2.iloc[2,1]\n",
    "    successes_group2_cart_payment = users_per_event_group2.iloc[3,1]\n",
    "    \n",
    "    #Testing hypothesis for every step's conversion:\n",
    "\n",
    "    p1 = successes_group1_main_offers / trials_group1_main_offers\n",
    "    p2 = successes_group2_main_offers / trials_group2_main_offers\n",
    "    p_combined = (successes_group1_main_offers + successes_group2_main_offers) / (trials_group1_main_offers + trials_group2_main_offers)\n",
    "    difference = p1-p2\n",
    "    z_value = difference / mth.sqrt(p_combined * (1 - p_combined) * (1/trials_group1_main_offers + 1/trials_group2_main_offers))\n",
    "    distr = st.norm(0, 1) \n",
    "    p_value = (1 - distr.cdf(abs(z_value))) * 2\n",
    "    print('p-value: ', p_value)\n",
    "    if (p_value < alpha):\n",
    "        print(\"Rejecting the null hypothesis: there is a significant difference between the proportions in conversion between Main and Offer steps\")\n",
    "    else:\n",
    "        print(\"Failed to reject the null hypothesis: there is no reason to consider the proportions in conversion between Main and Offer steps different\")\n",
    "    \n",
    "    p1 = successes_group1_offers_cart / trials_group1_offers_cart\n",
    "    p2 = successes_group2_offers_cart / trials_group2_offers_cart\n",
    "    p_combined = (successes_group1_offers_cart + successes_group2_offers_cart) / (trials_group1_offers_cart + trials_group2_offers_cart)\n",
    "    difference = p1-p2\n",
    "    z_value = difference / mth.sqrt(p_combined * (1 - p_combined) * (1/trials_group1_offers_cart + 1/trials_group2_offers_cart))\n",
    "    distr = st.norm(0, 1) \n",
    "    p_value = (1 - distr.cdf(abs(z_value))) * 2\n",
    "    print('p-value: ', p_value)\n",
    "\n",
    "    if (p_value < alpha):\n",
    "        print(\"Rejecting the null hypothesis: there is a significant difference between the proportions in conversion between Offer and Cart steps\")\n",
    "    else:\n",
    "        print(\"Failed to reject the null hypothesis: there is no reason to consider the proportions in conversion between Offer and Cart steps different\")\n",
    "        \n",
    "    \n",
    "    p1 = successes_group1_cart_payment / trials_group1_cart_payment\n",
    "    p2 = successes_group2_cart_payment / trials_group2_cart_payment\n",
    "    p_combined = (successes_group1_cart_payment + successes_group2_cart_payment) / (trials_group1_cart_payment + trials_group2_cart_payment)\n",
    "    difference = p1-p2\n",
    "    z_value = difference / mth.sqrt(p_combined * (1 - p_combined) * (1/trials_group1_cart_payment + 1/trials_group2_cart_payment))\n",
    "    distr = st.norm(0, 1) \n",
    "    p_value = (1 - distr.cdf(abs(z_value))) * 2\n",
    "    print('p-value: ', p_value)\n",
    "\n",
    "    if (p_value < alpha):\n",
    "        print(\"Rejecting the null hypothesis: there is a significant difference between the proportions in conversion between Cart and Payment steps\")\n",
    "    else:\n",
    "        print(\"Failed to reject the null hypothesis: there is no reason to consider the proportions in conversion between Cart and Payment steps different\")"
   ]
  },
  {
   "cell_type": "code",
   "execution_count": 62,
   "id": "e0054209",
   "metadata": {},
   "outputs": [
    {
     "name": "stdout",
     "output_type": "stream",
     "text": [
      "p-value:  0.5308589432077624\n",
      "Failed to reject the null hypothesis: there is no reason to consider the proportions in conversion between Main and Offer steps different\n",
      "p-value:  0.23905954279947372\n",
      "Failed to reject the null hypothesis: there is no reason to consider the proportions in conversion between Offer and Cart steps different\n",
      "p-value:  0.017114434319547067\n",
      "Failed to reject the null hypothesis: there is no reason to consider the proportions in conversion between Cart and Payment steps different\n"
     ]
    }
   ],
   "source": [
    "z_tester_group('A','B')"
   ]
  },
  {
   "cell_type": "markdown",
   "id": "60e47a25",
   "metadata": {},
   "source": [
    "Now we have confirmed all changes are insignificant."
   ]
  },
  {
   "cell_type": "markdown",
   "id": "36bebcbc",
   "metadata": {},
   "source": [
    "All in all, the experiment provided some information- seems the change in font did not intimidate anyone, at least not in a statistically significant way."
   ]
  },
  {
   "cell_type": "markdown",
   "id": "fe9972e5",
   "metadata": {},
   "source": [
    "On the subject of alpha value- seeing as we are testing 12 hypotheses (4 sets of 3 hypotheses), and are aiming for an alpha of 0.05, it needs to be set as 0.0042, if going by the Bonferroni procedure. \n",
    "Increasing the alpha value would maybe cause more changes to appear as significant, but will also cause two more issues:\n",
    "\n",
    "   The probability for false-positives would increase\n",
    "    \n",
    "   Changes between the two control groups may also appear as significant, thereby dissmissing the entire A/A/B test."
   ]
  }
 ],
 "metadata": {
  "ExecuteTimeLog": [
   {
    "duration": 1121,
    "start_time": "2022-04-27T17:52:12.272Z"
   },
   {
    "duration": 265,
    "start_time": "2022-04-27T17:52:13.395Z"
   },
   {
    "duration": 16,
    "start_time": "2022-04-27T17:52:13.662Z"
   },
   {
    "duration": 40,
    "start_time": "2022-04-27T17:52:13.681Z"
   },
   {
    "duration": 58,
    "start_time": "2022-04-27T17:52:13.723Z"
   },
   {
    "duration": 146,
    "start_time": "2022-04-27T17:52:13.783Z"
   },
   {
    "duration": 35,
    "start_time": "2022-04-27T17:52:13.931Z"
   },
   {
    "duration": 141,
    "start_time": "2022-04-27T17:52:13.967Z"
   },
   {
    "duration": 22,
    "start_time": "2022-04-27T17:52:14.109Z"
   },
   {
    "duration": 43,
    "start_time": "2022-04-27T17:52:14.134Z"
   },
   {
    "duration": 24,
    "start_time": "2022-04-27T17:52:14.179Z"
   },
   {
    "duration": 458,
    "start_time": "2022-04-27T17:52:14.204Z"
   },
   {
    "duration": 18,
    "start_time": "2022-04-27T17:52:14.663Z"
   },
   {
    "duration": 52,
    "start_time": "2022-04-27T17:52:14.683Z"
   },
   {
    "duration": 6,
    "start_time": "2022-04-27T17:52:14.736Z"
   },
   {
    "duration": 22,
    "start_time": "2022-04-27T17:52:14.744Z"
   },
   {
    "duration": 88,
    "start_time": "2022-04-27T17:52:14.767Z"
   },
   {
    "duration": 11,
    "start_time": "2022-04-27T17:52:14.857Z"
   },
   {
    "duration": 320,
    "start_time": "2022-04-27T17:52:14.870Z"
   },
   {
    "duration": 56,
    "start_time": "2022-04-27T17:52:15.192Z"
   },
   {
    "duration": 3,
    "start_time": "2022-04-27T17:52:15.250Z"
   },
   {
    "duration": 81,
    "start_time": "2022-04-27T17:52:15.254Z"
   },
   {
    "duration": 110,
    "start_time": "2022-04-27T17:52:15.337Z"
   },
   {
    "duration": 7,
    "start_time": "2022-04-27T17:52:15.448Z"
   },
   {
    "duration": 7,
    "start_time": "2022-04-27T17:52:15.456Z"
   },
   {
    "duration": 116,
    "start_time": "2022-04-27T17:52:15.464Z"
   },
   {
    "duration": 0,
    "start_time": "2022-04-27T17:52:15.581Z"
   },
   {
    "duration": 0,
    "start_time": "2022-04-27T17:52:15.582Z"
   },
   {
    "duration": 0,
    "start_time": "2022-04-27T17:52:15.584Z"
   },
   {
    "duration": 9,
    "start_time": "2022-04-27T18:04:49.229Z"
   },
   {
    "duration": 78,
    "start_time": "2022-04-27T18:04:50.669Z"
   },
   {
    "duration": 103,
    "start_time": "2022-04-27T18:04:51.508Z"
   },
   {
    "duration": 1728,
    "start_time": "2022-04-30T10:01:58.936Z"
   },
   {
    "duration": 314,
    "start_time": "2022-04-30T10:02:00.667Z"
   },
   {
    "duration": 13,
    "start_time": "2022-04-30T10:02:00.983Z"
   },
   {
    "duration": 48,
    "start_time": "2022-04-30T10:02:01.000Z"
   },
   {
    "duration": 78,
    "start_time": "2022-04-30T10:02:01.051Z"
   },
   {
    "duration": 138,
    "start_time": "2022-04-30T10:02:01.131Z"
   },
   {
    "duration": 64,
    "start_time": "2022-04-30T10:02:01.271Z"
   },
   {
    "duration": 162,
    "start_time": "2022-04-30T10:02:01.337Z"
   },
   {
    "duration": 27,
    "start_time": "2022-04-30T10:02:01.500Z"
   },
   {
    "duration": 44,
    "start_time": "2022-04-30T10:02:01.530Z"
   },
   {
    "duration": 6,
    "start_time": "2022-04-30T10:02:01.575Z"
   },
   {
    "duration": 469,
    "start_time": "2022-04-30T10:02:01.583Z"
   },
   {
    "duration": 22,
    "start_time": "2022-04-30T10:02:02.054Z"
   },
   {
    "duration": 62,
    "start_time": "2022-04-30T10:02:02.078Z"
   },
   {
    "duration": 8,
    "start_time": "2022-04-30T10:02:02.142Z"
   },
   {
    "duration": 40,
    "start_time": "2022-04-30T10:02:02.151Z"
   },
   {
    "duration": 78,
    "start_time": "2022-04-30T10:02:02.193Z"
   },
   {
    "duration": 11,
    "start_time": "2022-04-30T10:02:02.272Z"
   },
   {
    "duration": 267,
    "start_time": "2022-04-30T10:02:02.285Z"
   },
   {
    "duration": 87,
    "start_time": "2022-04-30T10:02:02.554Z"
   },
   {
    "duration": 4,
    "start_time": "2022-04-30T10:02:02.644Z"
   },
   {
    "duration": 81,
    "start_time": "2022-04-30T10:02:02.650Z"
   },
   {
    "duration": 70,
    "start_time": "2022-04-30T10:02:02.732Z"
   },
   {
    "duration": 26,
    "start_time": "2022-04-30T10:02:02.804Z"
   },
   {
    "duration": 6,
    "start_time": "2022-04-30T10:02:02.832Z"
   },
   {
    "duration": 180,
    "start_time": "2022-04-30T10:02:02.839Z"
   },
   {
    "duration": 0,
    "start_time": "2022-04-30T10:02:03.022Z"
   },
   {
    "duration": 1,
    "start_time": "2022-04-30T10:02:03.023Z"
   },
   {
    "duration": 0,
    "start_time": "2022-04-30T10:02:03.025Z"
   },
   {
    "duration": 3,
    "start_time": "2022-04-30T10:05:56.228Z"
   },
   {
    "duration": 269,
    "start_time": "2022-04-30T10:05:56.233Z"
   },
   {
    "duration": 7,
    "start_time": "2022-04-30T10:05:56.504Z"
   },
   {
    "duration": 21,
    "start_time": "2022-04-30T10:05:56.522Z"
   },
   {
    "duration": 58,
    "start_time": "2022-04-30T10:05:56.545Z"
   },
   {
    "duration": 134,
    "start_time": "2022-04-30T10:05:56.605Z"
   },
   {
    "duration": 50,
    "start_time": "2022-04-30T10:05:56.741Z"
   },
   {
    "duration": 116,
    "start_time": "2022-04-30T10:05:56.793Z"
   },
   {
    "duration": 20,
    "start_time": "2022-04-30T10:05:56.911Z"
   },
   {
    "duration": 35,
    "start_time": "2022-04-30T10:05:56.934Z"
   },
   {
    "duration": 6,
    "start_time": "2022-04-30T10:05:56.971Z"
   },
   {
    "duration": 427,
    "start_time": "2022-04-30T10:05:56.979Z"
   },
   {
    "duration": 22,
    "start_time": "2022-04-30T10:05:57.407Z"
   },
   {
    "duration": 30,
    "start_time": "2022-04-30T10:05:57.431Z"
   },
   {
    "duration": 8,
    "start_time": "2022-04-30T10:05:57.463Z"
   },
   {
    "duration": 52,
    "start_time": "2022-04-30T10:05:57.472Z"
   },
   {
    "duration": 85,
    "start_time": "2022-04-30T10:05:57.526Z"
   },
   {
    "duration": 11,
    "start_time": "2022-04-30T10:05:57.622Z"
   },
   {
    "duration": 12,
    "start_time": "2022-04-30T10:05:57.636Z"
   },
   {
    "duration": 44,
    "start_time": "2022-04-30T10:05:57.650Z"
   },
   {
    "duration": 4,
    "start_time": "2022-04-30T10:05:57.723Z"
   },
   {
    "duration": 35,
    "start_time": "2022-04-30T10:05:57.729Z"
   },
   {
    "duration": 84,
    "start_time": "2022-04-30T10:05:57.765Z"
   },
   {
    "duration": 6,
    "start_time": "2022-04-30T10:05:57.851Z"
   },
   {
    "duration": 5,
    "start_time": "2022-04-30T10:05:57.859Z"
   },
   {
    "duration": 136,
    "start_time": "2022-04-30T10:05:57.865Z"
   },
   {
    "duration": 22,
    "start_time": "2022-04-30T10:05:58.004Z"
   },
   {
    "duration": 0,
    "start_time": "2022-04-30T10:05:58.028Z"
   },
   {
    "duration": 0,
    "start_time": "2022-04-30T10:05:58.031Z"
   },
   {
    "duration": 140,
    "start_time": "2022-04-30T10:06:28.646Z"
   },
   {
    "duration": 79,
    "start_time": "2022-04-30T10:06:31.840Z"
   },
   {
    "duration": 123,
    "start_time": "2022-04-30T10:06:31.921Z"
   },
   {
    "duration": 4,
    "start_time": "2022-04-30T10:06:45.898Z"
   },
   {
    "duration": 294,
    "start_time": "2022-04-30T10:06:45.905Z"
   },
   {
    "duration": 8,
    "start_time": "2022-04-30T10:06:46.201Z"
   },
   {
    "duration": 41,
    "start_time": "2022-04-30T10:06:46.211Z"
   },
   {
    "duration": 74,
    "start_time": "2022-04-30T10:06:46.256Z"
   },
   {
    "duration": 178,
    "start_time": "2022-04-30T10:06:46.332Z"
   },
   {
    "duration": 58,
    "start_time": "2022-04-30T10:06:46.513Z"
   },
   {
    "duration": 187,
    "start_time": "2022-04-30T10:06:46.573Z"
   },
   {
    "duration": 25,
    "start_time": "2022-04-30T10:06:46.762Z"
   },
   {
    "duration": 70,
    "start_time": "2022-04-30T10:06:46.789Z"
   },
   {
    "duration": 6,
    "start_time": "2022-04-30T10:06:46.861Z"
   },
   {
    "duration": 368,
    "start_time": "2022-04-30T10:06:46.869Z"
   },
   {
    "duration": 16,
    "start_time": "2022-04-30T10:06:47.238Z"
   },
   {
    "duration": 40,
    "start_time": "2022-04-30T10:06:47.257Z"
   },
   {
    "duration": 29,
    "start_time": "2022-04-30T10:06:47.299Z"
   },
   {
    "duration": 26,
    "start_time": "2022-04-30T10:06:47.330Z"
   },
   {
    "duration": 113,
    "start_time": "2022-04-30T10:06:47.358Z"
   },
   {
    "duration": 16,
    "start_time": "2022-04-30T10:06:47.473Z"
   },
   {
    "duration": 35,
    "start_time": "2022-04-30T10:06:47.491Z"
   },
   {
    "duration": 48,
    "start_time": "2022-04-30T10:06:47.529Z"
   },
   {
    "duration": 5,
    "start_time": "2022-04-30T10:06:47.579Z"
   },
   {
    "duration": 74,
    "start_time": "2022-04-30T10:06:47.586Z"
   },
   {
    "duration": 110,
    "start_time": "2022-04-30T10:06:47.663Z"
   },
   {
    "duration": 10,
    "start_time": "2022-04-30T10:06:47.776Z"
   },
   {
    "duration": 5,
    "start_time": "2022-04-30T10:06:47.788Z"
   },
   {
    "duration": 164,
    "start_time": "2022-04-30T10:06:47.795Z"
   },
   {
    "duration": 148,
    "start_time": "2022-04-30T10:06:47.961Z"
   },
   {
    "duration": 138,
    "start_time": "2022-04-30T10:06:48.111Z"
   },
   {
    "duration": 159,
    "start_time": "2022-04-30T10:06:48.251Z"
   },
   {
    "duration": 4,
    "start_time": "2022-04-30T10:07:04.748Z"
   },
   {
    "duration": 262,
    "start_time": "2022-04-30T10:07:04.754Z"
   },
   {
    "duration": 9,
    "start_time": "2022-04-30T10:07:05.018Z"
   },
   {
    "duration": 22,
    "start_time": "2022-04-30T10:07:05.030Z"
   },
   {
    "duration": 78,
    "start_time": "2022-04-30T10:07:05.055Z"
   },
   {
    "duration": 124,
    "start_time": "2022-04-30T10:07:05.135Z"
   },
   {
    "duration": 38,
    "start_time": "2022-04-30T10:07:05.261Z"
   },
   {
    "duration": 129,
    "start_time": "2022-04-30T10:07:05.301Z"
   },
   {
    "duration": 16,
    "start_time": "2022-04-30T10:07:05.431Z"
   },
   {
    "duration": 35,
    "start_time": "2022-04-30T10:07:05.450Z"
   },
   {
    "duration": 6,
    "start_time": "2022-04-30T10:07:05.486Z"
   },
   {
    "duration": 473,
    "start_time": "2022-04-30T10:07:05.494Z"
   },
   {
    "duration": 15,
    "start_time": "2022-04-30T10:07:05.969Z"
   },
   {
    "duration": 57,
    "start_time": "2022-04-30T10:07:05.986Z"
   },
   {
    "duration": 7,
    "start_time": "2022-04-30T10:07:06.045Z"
   },
   {
    "duration": 24,
    "start_time": "2022-04-30T10:07:06.053Z"
   },
   {
    "duration": 101,
    "start_time": "2022-04-30T10:07:06.079Z"
   },
   {
    "duration": 15,
    "start_time": "2022-04-30T10:07:06.182Z"
   },
   {
    "duration": 26,
    "start_time": "2022-04-30T10:07:06.199Z"
   },
   {
    "duration": 32,
    "start_time": "2022-04-30T10:07:06.226Z"
   },
   {
    "duration": 4,
    "start_time": "2022-04-30T10:07:06.260Z"
   },
   {
    "duration": 58,
    "start_time": "2022-04-30T10:07:06.265Z"
   },
   {
    "duration": 64,
    "start_time": "2022-04-30T10:07:06.325Z"
   },
   {
    "duration": 7,
    "start_time": "2022-04-30T10:07:06.390Z"
   },
   {
    "duration": 23,
    "start_time": "2022-04-30T10:07:06.399Z"
   },
   {
    "duration": 106,
    "start_time": "2022-04-30T10:07:06.424Z"
   },
   {
    "duration": 105,
    "start_time": "2022-04-30T10:07:06.532Z"
   },
   {
    "duration": 84,
    "start_time": "2022-04-30T10:07:06.640Z"
   },
   {
    "duration": 118,
    "start_time": "2022-04-30T10:07:06.726Z"
   },
   {
    "duration": 3,
    "start_time": "2022-04-30T10:19:20.896Z"
   },
   {
    "duration": 4,
    "start_time": "2022-04-30T10:21:22.287Z"
   },
   {
    "duration": 39,
    "start_time": "2022-04-30T10:21:24.521Z"
   },
   {
    "duration": 3,
    "start_time": "2022-04-30T10:22:03.924Z"
   },
   {
    "duration": 37,
    "start_time": "2022-04-30T10:22:05.234Z"
   },
   {
    "duration": 195,
    "start_time": "2022-04-30T10:25:08.439Z"
   },
   {
    "duration": 186,
    "start_time": "2022-04-30T10:25:23.680Z"
   },
   {
    "duration": 24,
    "start_time": "2022-04-30T10:26:16.070Z"
   },
   {
    "duration": 24,
    "start_time": "2022-04-30T10:26:23.388Z"
   },
   {
    "duration": 34,
    "start_time": "2022-04-30T10:27:07.934Z"
   },
   {
    "duration": 45,
    "start_time": "2022-04-30T10:29:32.546Z"
   },
   {
    "duration": 4,
    "start_time": "2022-04-30T10:29:48.026Z"
   },
   {
    "duration": 34,
    "start_time": "2022-04-30T10:29:54.892Z"
   },
   {
    "duration": 3,
    "start_time": "2022-04-30T10:30:29.007Z"
   },
   {
    "duration": 4,
    "start_time": "2022-04-30T10:30:35.748Z"
   },
   {
    "duration": 41,
    "start_time": "2022-04-30T10:31:08.215Z"
   },
   {
    "duration": 30,
    "start_time": "2022-04-30T10:31:51.016Z"
   },
   {
    "duration": 4,
    "start_time": "2022-04-30T10:36:40.261Z"
   },
   {
    "duration": 377,
    "start_time": "2022-04-30T10:36:40.267Z"
   },
   {
    "duration": 8,
    "start_time": "2022-04-30T10:36:40.646Z"
   },
   {
    "duration": 22,
    "start_time": "2022-04-30T10:36:40.657Z"
   },
   {
    "duration": 79,
    "start_time": "2022-04-30T10:36:40.681Z"
   },
   {
    "duration": 111,
    "start_time": "2022-04-30T10:36:40.762Z"
   },
   {
    "duration": 40,
    "start_time": "2022-04-30T10:36:40.874Z"
   },
   {
    "duration": 118,
    "start_time": "2022-04-30T10:36:40.915Z"
   },
   {
    "duration": 17,
    "start_time": "2022-04-30T10:36:41.034Z"
   },
   {
    "duration": 42,
    "start_time": "2022-04-30T10:36:41.054Z"
   },
   {
    "duration": 6,
    "start_time": "2022-04-30T10:36:41.097Z"
   },
   {
    "duration": 390,
    "start_time": "2022-04-30T10:36:41.105Z"
   },
   {
    "duration": 19,
    "start_time": "2022-04-30T10:36:41.497Z"
   },
   {
    "duration": 45,
    "start_time": "2022-04-30T10:36:41.522Z"
   },
   {
    "duration": 6,
    "start_time": "2022-04-30T10:36:41.569Z"
   },
   {
    "duration": 30,
    "start_time": "2022-04-30T10:36:41.576Z"
   },
   {
    "duration": 62,
    "start_time": "2022-04-30T10:36:41.607Z"
   },
   {
    "duration": 10,
    "start_time": "2022-04-30T10:36:41.671Z"
   },
   {
    "duration": 10,
    "start_time": "2022-04-30T10:36:41.683Z"
   },
   {
    "duration": 48,
    "start_time": "2022-04-30T10:36:41.694Z"
   },
   {
    "duration": 3,
    "start_time": "2022-04-30T10:36:41.744Z"
   },
   {
    "duration": 42,
    "start_time": "2022-04-30T10:36:41.749Z"
   },
   {
    "duration": 135,
    "start_time": "2022-04-30T10:36:41.793Z"
   },
   {
    "duration": 38,
    "start_time": "2022-04-30T10:36:41.930Z"
   },
   {
    "duration": 75,
    "start_time": "2022-04-30T10:36:41.969Z"
   },
   {
    "duration": 8,
    "start_time": "2022-04-30T10:36:42.046Z"
   },
   {
    "duration": 68,
    "start_time": "2022-04-30T10:36:42.056Z"
   },
   {
    "duration": 5,
    "start_time": "2022-04-30T10:36:42.130Z"
   },
   {
    "duration": 146,
    "start_time": "2022-04-30T10:36:42.137Z"
   },
   {
    "duration": 111,
    "start_time": "2022-04-30T10:36:42.285Z"
   },
   {
    "duration": 93,
    "start_time": "2022-04-30T10:36:42.398Z"
   },
   {
    "duration": 176,
    "start_time": "2022-04-30T10:36:42.493Z"
   },
   {
    "duration": 7,
    "start_time": "2022-04-30T10:36:54.949Z"
   },
   {
    "duration": 9,
    "start_time": "2022-04-30T10:46:55.324Z"
   },
   {
    "duration": 38,
    "start_time": "2022-04-30T11:01:03.950Z"
   },
   {
    "duration": 29,
    "start_time": "2022-04-30T11:01:11.798Z"
   },
   {
    "duration": 16,
    "start_time": "2022-04-30T11:01:19.503Z"
   },
   {
    "duration": 4,
    "start_time": "2022-04-30T11:01:22.494Z"
   },
   {
    "duration": 277,
    "start_time": "2022-04-30T11:01:22.500Z"
   },
   {
    "duration": 6,
    "start_time": "2022-04-30T11:01:22.779Z"
   },
   {
    "duration": 22,
    "start_time": "2022-04-30T11:01:22.787Z"
   },
   {
    "duration": 80,
    "start_time": "2022-04-30T11:01:22.830Z"
   },
   {
    "duration": 173,
    "start_time": "2022-04-30T11:01:22.912Z"
   },
   {
    "duration": 62,
    "start_time": "2022-04-30T11:01:23.088Z"
   },
   {
    "duration": 163,
    "start_time": "2022-04-30T11:01:23.152Z"
   },
   {
    "duration": 25,
    "start_time": "2022-04-30T11:01:23.322Z"
   },
   {
    "duration": 43,
    "start_time": "2022-04-30T11:01:23.350Z"
   },
   {
    "duration": 6,
    "start_time": "2022-04-30T11:01:23.395Z"
   },
   {
    "duration": 668,
    "start_time": "2022-04-30T11:01:23.403Z"
   },
   {
    "duration": 17,
    "start_time": "2022-04-30T11:01:24.073Z"
   },
   {
    "duration": 55,
    "start_time": "2022-04-30T11:01:24.092Z"
   },
   {
    "duration": 7,
    "start_time": "2022-04-30T11:01:24.153Z"
   },
   {
    "duration": 34,
    "start_time": "2022-04-30T11:01:24.161Z"
   },
   {
    "duration": 81,
    "start_time": "2022-04-30T11:01:24.197Z"
   },
   {
    "duration": 15,
    "start_time": "2022-04-30T11:01:24.280Z"
   },
   {
    "duration": 13,
    "start_time": "2022-04-30T11:01:24.297Z"
   },
   {
    "duration": 125,
    "start_time": "2022-04-30T11:01:24.323Z"
   },
   {
    "duration": 55,
    "start_time": "2022-04-30T11:01:24.450Z"
   },
   {
    "duration": 4,
    "start_time": "2022-04-30T11:01:24.507Z"
   },
   {
    "duration": 61,
    "start_time": "2022-04-30T11:01:24.513Z"
   },
   {
    "duration": 104,
    "start_time": "2022-04-30T11:01:24.576Z"
   },
   {
    "duration": 0,
    "start_time": "2022-04-30T11:01:24.682Z"
   },
   {
    "duration": 0,
    "start_time": "2022-04-30T11:01:24.684Z"
   },
   {
    "duration": 0,
    "start_time": "2022-04-30T11:01:24.685Z"
   },
   {
    "duration": 0,
    "start_time": "2022-04-30T11:01:24.686Z"
   },
   {
    "duration": 0,
    "start_time": "2022-04-30T11:01:24.687Z"
   },
   {
    "duration": 0,
    "start_time": "2022-04-30T11:01:24.688Z"
   },
   {
    "duration": 0,
    "start_time": "2022-04-30T11:01:24.688Z"
   },
   {
    "duration": 0,
    "start_time": "2022-04-30T11:01:24.689Z"
   },
   {
    "duration": 0,
    "start_time": "2022-04-30T11:01:24.691Z"
   },
   {
    "duration": 0,
    "start_time": "2022-04-30T11:01:24.691Z"
   },
   {
    "duration": 70,
    "start_time": "2022-04-30T11:02:32.316Z"
   },
   {
    "duration": 3,
    "start_time": "2022-04-30T11:02:34.872Z"
   },
   {
    "duration": 294,
    "start_time": "2022-04-30T11:02:34.877Z"
   },
   {
    "duration": 7,
    "start_time": "2022-04-30T11:02:35.173Z"
   },
   {
    "duration": 26,
    "start_time": "2022-04-30T11:02:35.182Z"
   },
   {
    "duration": 56,
    "start_time": "2022-04-30T11:02:35.223Z"
   },
   {
    "duration": 117,
    "start_time": "2022-04-30T11:02:35.281Z"
   },
   {
    "duration": 49,
    "start_time": "2022-04-30T11:02:35.400Z"
   },
   {
    "duration": 124,
    "start_time": "2022-04-30T11:02:35.451Z"
   },
   {
    "duration": 15,
    "start_time": "2022-04-30T11:02:35.576Z"
   },
   {
    "duration": 78,
    "start_time": "2022-04-30T11:02:35.593Z"
   },
   {
    "duration": 5,
    "start_time": "2022-04-30T11:02:35.673Z"
   },
   {
    "duration": 395,
    "start_time": "2022-04-30T11:02:35.680Z"
   },
   {
    "duration": 13,
    "start_time": "2022-04-30T11:02:36.077Z"
   },
   {
    "duration": 48,
    "start_time": "2022-04-30T11:02:36.094Z"
   },
   {
    "duration": 9,
    "start_time": "2022-04-30T11:02:36.144Z"
   },
   {
    "duration": 46,
    "start_time": "2022-04-30T11:02:36.155Z"
   },
   {
    "duration": 88,
    "start_time": "2022-04-30T11:02:36.203Z"
   },
   {
    "duration": 20,
    "start_time": "2022-04-30T11:02:36.293Z"
   },
   {
    "duration": 15,
    "start_time": "2022-04-30T11:02:36.322Z"
   },
   {
    "duration": 12,
    "start_time": "2022-04-30T11:02:36.339Z"
   },
   {
    "duration": 44,
    "start_time": "2022-04-30T11:02:36.353Z"
   },
   {
    "duration": 25,
    "start_time": "2022-04-30T11:02:36.399Z"
   },
   {
    "duration": 38,
    "start_time": "2022-04-30T11:02:36.430Z"
   },
   {
    "duration": 64,
    "start_time": "2022-04-30T11:02:36.469Z"
   },
   {
    "duration": 26,
    "start_time": "2022-04-30T11:02:36.535Z"
   },
   {
    "duration": 26,
    "start_time": "2022-04-30T11:02:36.563Z"
   },
   {
    "duration": 5,
    "start_time": "2022-04-30T11:02:36.591Z"
   },
   {
    "duration": 32,
    "start_time": "2022-04-30T11:02:36.598Z"
   },
   {
    "duration": 17,
    "start_time": "2022-04-30T11:02:36.631Z"
   },
   {
    "duration": 5,
    "start_time": "2022-04-30T11:02:36.649Z"
   },
   {
    "duration": 123,
    "start_time": "2022-04-30T11:02:36.655Z"
   },
   {
    "duration": 0,
    "start_time": "2022-04-30T11:02:36.780Z"
   },
   {
    "duration": 0,
    "start_time": "2022-04-30T11:02:36.781Z"
   },
   {
    "duration": 0,
    "start_time": "2022-04-30T11:02:36.782Z"
   },
   {
    "duration": 4,
    "start_time": "2022-04-30T11:02:47.364Z"
   },
   {
    "duration": 339,
    "start_time": "2022-04-30T11:02:47.370Z"
   },
   {
    "duration": 18,
    "start_time": "2022-04-30T11:02:47.711Z"
   },
   {
    "duration": 25,
    "start_time": "2022-04-30T11:02:47.732Z"
   },
   {
    "duration": 50,
    "start_time": "2022-04-30T11:02:47.759Z"
   },
   {
    "duration": 141,
    "start_time": "2022-04-30T11:02:47.811Z"
   },
   {
    "duration": 36,
    "start_time": "2022-04-30T11:02:47.954Z"
   },
   {
    "duration": 136,
    "start_time": "2022-04-30T11:02:47.992Z"
   },
   {
    "duration": 22,
    "start_time": "2022-04-30T11:02:48.131Z"
   },
   {
    "duration": 38,
    "start_time": "2022-04-30T11:02:48.154Z"
   },
   {
    "duration": 34,
    "start_time": "2022-04-30T11:02:48.194Z"
   },
   {
    "duration": 357,
    "start_time": "2022-04-30T11:02:48.232Z"
   },
   {
    "duration": 15,
    "start_time": "2022-04-30T11:02:48.592Z"
   },
   {
    "duration": 36,
    "start_time": "2022-04-30T11:02:48.622Z"
   },
   {
    "duration": 7,
    "start_time": "2022-04-30T11:02:48.660Z"
   },
   {
    "duration": 23,
    "start_time": "2022-04-30T11:02:48.668Z"
   },
   {
    "duration": 88,
    "start_time": "2022-04-30T11:02:48.693Z"
   },
   {
    "duration": 15,
    "start_time": "2022-04-30T11:02:48.783Z"
   },
   {
    "duration": 26,
    "start_time": "2022-04-30T11:02:48.800Z"
   },
   {
    "duration": 13,
    "start_time": "2022-04-30T11:02:48.827Z"
   },
   {
    "duration": 31,
    "start_time": "2022-04-30T11:02:48.841Z"
   },
   {
    "duration": 4,
    "start_time": "2022-04-30T11:02:48.874Z"
   },
   {
    "duration": 81,
    "start_time": "2022-04-30T11:02:48.880Z"
   },
   {
    "duration": 80,
    "start_time": "2022-04-30T11:02:48.963Z"
   },
   {
    "duration": 29,
    "start_time": "2022-04-30T11:02:49.044Z"
   },
   {
    "duration": 25,
    "start_time": "2022-04-30T11:02:49.074Z"
   },
   {
    "duration": 5,
    "start_time": "2022-04-30T11:02:49.101Z"
   },
   {
    "duration": 26,
    "start_time": "2022-04-30T11:02:49.108Z"
   },
   {
    "duration": 12,
    "start_time": "2022-04-30T11:02:49.135Z"
   },
   {
    "duration": 4,
    "start_time": "2022-04-30T11:02:49.149Z"
   },
   {
    "duration": 98,
    "start_time": "2022-04-30T11:02:49.154Z"
   },
   {
    "duration": 104,
    "start_time": "2022-04-30T11:02:49.254Z"
   },
   {
    "duration": 91,
    "start_time": "2022-04-30T11:02:49.360Z"
   },
   {
    "duration": 116,
    "start_time": "2022-04-30T11:02:49.453Z"
   },
   {
    "duration": 7,
    "start_time": "2022-04-30T11:06:08.108Z"
   },
   {
    "duration": 86,
    "start_time": "2022-04-30T11:07:07.476Z"
   },
   {
    "duration": 9,
    "start_time": "2022-04-30T11:13:57.991Z"
   },
   {
    "duration": 55,
    "start_time": "2022-04-30T11:13:59.369Z"
   },
   {
    "duration": 20,
    "start_time": "2022-04-30T11:16:07.128Z"
   },
   {
    "duration": 56,
    "start_time": "2022-04-30T11:16:07.957Z"
   },
   {
    "duration": 59,
    "start_time": "2022-04-30T11:20:51.671Z"
   },
   {
    "duration": 92,
    "start_time": "2022-04-30T11:24:03.668Z"
   },
   {
    "duration": 73,
    "start_time": "2022-04-30T11:24:15.961Z"
   },
   {
    "duration": 14,
    "start_time": "2022-04-30T11:24:47.429Z"
   },
   {
    "duration": 57,
    "start_time": "2022-04-30T11:24:48.666Z"
   },
   {
    "duration": 4,
    "start_time": "2022-04-30T11:24:51.082Z"
   },
   {
    "duration": 281,
    "start_time": "2022-04-30T11:24:51.088Z"
   },
   {
    "duration": 7,
    "start_time": "2022-04-30T11:24:51.370Z"
   },
   {
    "duration": 21,
    "start_time": "2022-04-30T11:24:51.379Z"
   },
   {
    "duration": 79,
    "start_time": "2022-04-30T11:24:51.402Z"
   },
   {
    "duration": 104,
    "start_time": "2022-04-30T11:24:51.483Z"
   },
   {
    "duration": 48,
    "start_time": "2022-04-30T11:24:51.588Z"
   },
   {
    "duration": 180,
    "start_time": "2022-04-30T11:24:51.643Z"
   },
   {
    "duration": 24,
    "start_time": "2022-04-30T11:24:51.825Z"
   },
   {
    "duration": 55,
    "start_time": "2022-04-30T11:24:51.853Z"
   },
   {
    "duration": 13,
    "start_time": "2022-04-30T11:24:51.923Z"
   },
   {
    "duration": 656,
    "start_time": "2022-04-30T11:24:51.942Z"
   },
   {
    "duration": 33,
    "start_time": "2022-04-30T11:24:52.600Z"
   },
   {
    "duration": 31,
    "start_time": "2022-04-30T11:24:52.637Z"
   },
   {
    "duration": 7,
    "start_time": "2022-04-30T11:24:52.669Z"
   },
   {
    "duration": 23,
    "start_time": "2022-04-30T11:24:52.678Z"
   },
   {
    "duration": 83,
    "start_time": "2022-04-30T11:24:52.703Z"
   },
   {
    "duration": 15,
    "start_time": "2022-04-30T11:24:52.787Z"
   },
   {
    "duration": 32,
    "start_time": "2022-04-30T11:24:52.804Z"
   },
   {
    "duration": 10,
    "start_time": "2022-04-30T11:24:52.837Z"
   },
   {
    "duration": 54,
    "start_time": "2022-04-30T11:24:52.848Z"
   },
   {
    "duration": 3,
    "start_time": "2022-04-30T11:24:52.903Z"
   },
   {
    "duration": 43,
    "start_time": "2022-04-30T11:24:52.921Z"
   },
   {
    "duration": 65,
    "start_time": "2022-04-30T11:24:52.965Z"
   },
   {
    "duration": 14,
    "start_time": "2022-04-30T11:24:53.032Z"
   },
   {
    "duration": 86,
    "start_time": "2022-04-30T11:24:53.048Z"
   },
   {
    "duration": 90,
    "start_time": "2022-04-30T11:24:53.136Z"
   },
   {
    "duration": 79,
    "start_time": "2022-04-30T11:24:53.230Z"
   },
   {
    "duration": 19,
    "start_time": "2022-04-30T11:24:53.312Z"
   },
   {
    "duration": 5,
    "start_time": "2022-04-30T11:24:53.334Z"
   },
   {
    "duration": 141,
    "start_time": "2022-04-30T11:24:53.341Z"
   },
   {
    "duration": 107,
    "start_time": "2022-04-30T11:24:53.484Z"
   },
   {
    "duration": 83,
    "start_time": "2022-04-30T11:24:53.593Z"
   },
   {
    "duration": 130,
    "start_time": "2022-04-30T11:24:53.678Z"
   },
   {
    "duration": 14,
    "start_time": "2022-04-30T11:34:56.485Z"
   },
   {
    "duration": 10,
    "start_time": "2022-04-30T11:37:49.940Z"
   },
   {
    "duration": 71,
    "start_time": "2022-04-30T11:38:06.082Z"
   },
   {
    "duration": 193,
    "start_time": "2022-04-30T11:46:22.132Z"
   },
   {
    "duration": 42,
    "start_time": "2022-04-30T11:46:33.266Z"
   },
   {
    "duration": 10,
    "start_time": "2022-04-30T11:47:55.879Z"
   },
   {
    "duration": 52,
    "start_time": "2022-04-30T11:51:37.232Z"
   },
   {
    "duration": 48,
    "start_time": "2022-04-30T11:51:40.228Z"
   },
   {
    "duration": 38,
    "start_time": "2022-04-30T11:52:12.383Z"
   },
   {
    "duration": 54,
    "start_time": "2022-04-30T11:52:14.728Z"
   },
   {
    "duration": 35,
    "start_time": "2022-04-30T11:53:45.044Z"
   },
   {
    "duration": 56,
    "start_time": "2022-04-30T11:53:46.705Z"
   },
   {
    "duration": 3,
    "start_time": "2022-04-30T12:22:06.570Z"
   },
   {
    "duration": 269,
    "start_time": "2022-04-30T12:22:06.575Z"
   },
   {
    "duration": 7,
    "start_time": "2022-04-30T12:22:06.846Z"
   },
   {
    "duration": 22,
    "start_time": "2022-04-30T12:22:06.855Z"
   },
   {
    "duration": 64,
    "start_time": "2022-04-30T12:22:06.879Z"
   },
   {
    "duration": 107,
    "start_time": "2022-04-30T12:22:06.945Z"
   },
   {
    "duration": 37,
    "start_time": "2022-04-30T12:22:07.054Z"
   },
   {
    "duration": 120,
    "start_time": "2022-04-30T12:22:07.092Z"
   },
   {
    "duration": 23,
    "start_time": "2022-04-30T12:22:07.214Z"
   },
   {
    "duration": 34,
    "start_time": "2022-04-30T12:22:07.240Z"
   },
   {
    "duration": 5,
    "start_time": "2022-04-30T12:22:07.276Z"
   },
   {
    "duration": 365,
    "start_time": "2022-04-30T12:22:07.283Z"
   },
   {
    "duration": 13,
    "start_time": "2022-04-30T12:22:07.649Z"
   },
   {
    "duration": 27,
    "start_time": "2022-04-30T12:22:07.664Z"
   },
   {
    "duration": 6,
    "start_time": "2022-04-30T12:22:07.693Z"
   },
   {
    "duration": 22,
    "start_time": "2022-04-30T12:22:07.723Z"
   },
   {
    "duration": 55,
    "start_time": "2022-04-30T12:22:07.747Z"
   },
   {
    "duration": 30,
    "start_time": "2022-04-30T12:22:07.804Z"
   },
   {
    "duration": 11,
    "start_time": "2022-04-30T12:22:07.836Z"
   },
   {
    "duration": 10,
    "start_time": "2022-04-30T12:22:07.849Z"
   },
   {
    "duration": 33,
    "start_time": "2022-04-30T12:22:07.860Z"
   },
   {
    "duration": 28,
    "start_time": "2022-04-30T12:22:07.895Z"
   },
   {
    "duration": 37,
    "start_time": "2022-04-30T12:22:07.924Z"
   },
   {
    "duration": 63,
    "start_time": "2022-04-30T12:22:07.963Z"
   },
   {
    "duration": 9,
    "start_time": "2022-04-30T12:22:08.028Z"
   },
   {
    "duration": 59,
    "start_time": "2022-04-30T12:22:08.039Z"
   },
   {
    "duration": 67,
    "start_time": "2022-04-30T12:22:08.099Z"
   },
   {
    "duration": 62,
    "start_time": "2022-04-30T12:22:08.169Z"
   },
   {
    "duration": 10,
    "start_time": "2022-04-30T12:22:08.233Z"
   },
   {
    "duration": 33,
    "start_time": "2022-04-30T12:22:08.245Z"
   },
   {
    "duration": 0,
    "start_time": "2022-04-30T12:22:08.280Z"
   },
   {
    "duration": 0,
    "start_time": "2022-04-30T12:22:08.281Z"
   },
   {
    "duration": 4,
    "start_time": "2022-04-30T12:32:49.068Z"
   },
   {
    "duration": 282,
    "start_time": "2022-04-30T12:32:49.074Z"
   },
   {
    "duration": 6,
    "start_time": "2022-04-30T12:32:49.358Z"
   },
   {
    "duration": 20,
    "start_time": "2022-04-30T12:32:49.366Z"
   },
   {
    "duration": 65,
    "start_time": "2022-04-30T12:32:49.388Z"
   },
   {
    "duration": 115,
    "start_time": "2022-04-30T12:32:49.455Z"
   },
   {
    "duration": 35,
    "start_time": "2022-04-30T12:32:49.572Z"
   },
   {
    "duration": 118,
    "start_time": "2022-04-30T12:32:49.609Z"
   },
   {
    "duration": 15,
    "start_time": "2022-04-30T12:32:49.728Z"
   },
   {
    "duration": 34,
    "start_time": "2022-04-30T12:32:49.745Z"
   },
   {
    "duration": 5,
    "start_time": "2022-04-30T12:32:49.781Z"
   },
   {
    "duration": 424,
    "start_time": "2022-04-30T12:32:49.788Z"
   },
   {
    "duration": 17,
    "start_time": "2022-04-30T12:32:50.214Z"
   },
   {
    "duration": 26,
    "start_time": "2022-04-30T12:32:50.233Z"
   },
   {
    "duration": 6,
    "start_time": "2022-04-30T12:32:50.261Z"
   },
   {
    "duration": 23,
    "start_time": "2022-04-30T12:32:50.268Z"
   },
   {
    "duration": 77,
    "start_time": "2022-04-30T12:32:50.293Z"
   },
   {
    "duration": 14,
    "start_time": "2022-04-30T12:32:50.372Z"
   },
   {
    "duration": 11,
    "start_time": "2022-04-30T12:32:50.387Z"
   },
   {
    "duration": 27,
    "start_time": "2022-04-30T12:32:50.399Z"
   },
   {
    "duration": 31,
    "start_time": "2022-04-30T12:32:50.428Z"
   },
   {
    "duration": 3,
    "start_time": "2022-04-30T12:32:50.461Z"
   },
   {
    "duration": 36,
    "start_time": "2022-04-30T12:32:50.466Z"
   },
   {
    "duration": 51,
    "start_time": "2022-04-30T12:32:50.523Z"
   },
   {
    "duration": 10,
    "start_time": "2022-04-30T12:32:50.576Z"
   },
   {
    "duration": 66,
    "start_time": "2022-04-30T12:32:50.587Z"
   },
   {
    "duration": 50,
    "start_time": "2022-04-30T12:32:50.654Z"
   },
   {
    "duration": 62,
    "start_time": "2022-04-30T12:32:50.707Z"
   },
   {
    "duration": 58,
    "start_time": "2022-04-30T12:32:50.771Z"
   },
   {
    "duration": 9,
    "start_time": "2022-04-30T12:32:50.831Z"
   },
   {
    "duration": 87,
    "start_time": "2022-04-30T12:32:50.841Z"
   },
   {
    "duration": 50,
    "start_time": "2022-04-30T12:32:50.930Z"
   },
   {
    "duration": 54,
    "start_time": "2022-04-30T12:32:50.982Z"
   },
   {
    "duration": 3,
    "start_time": "2022-04-30T12:35:57.080Z"
   },
   {
    "duration": 358,
    "start_time": "2022-04-30T12:35:57.084Z"
   },
   {
    "duration": 6,
    "start_time": "2022-04-30T12:35:57.444Z"
   },
   {
    "duration": 21,
    "start_time": "2022-04-30T12:35:57.451Z"
   },
   {
    "duration": 69,
    "start_time": "2022-04-30T12:35:57.474Z"
   },
   {
    "duration": 105,
    "start_time": "2022-04-30T12:35:57.544Z"
   },
   {
    "duration": 37,
    "start_time": "2022-04-30T12:35:57.650Z"
   },
   {
    "duration": 112,
    "start_time": "2022-04-30T12:35:57.688Z"
   },
   {
    "duration": 26,
    "start_time": "2022-04-30T12:35:57.802Z"
   },
   {
    "duration": 34,
    "start_time": "2022-04-30T12:35:57.830Z"
   },
   {
    "duration": 5,
    "start_time": "2022-04-30T12:35:57.866Z"
   },
   {
    "duration": 350,
    "start_time": "2022-04-30T12:35:57.872Z"
   },
   {
    "duration": 15,
    "start_time": "2022-04-30T12:35:58.224Z"
   },
   {
    "duration": 26,
    "start_time": "2022-04-30T12:35:58.242Z"
   },
   {
    "duration": 6,
    "start_time": "2022-04-30T12:35:58.270Z"
   },
   {
    "duration": 46,
    "start_time": "2022-04-30T12:35:58.277Z"
   },
   {
    "duration": 56,
    "start_time": "2022-04-30T12:35:58.325Z"
   },
   {
    "duration": 14,
    "start_time": "2022-04-30T12:35:58.382Z"
   },
   {
    "duration": 27,
    "start_time": "2022-04-30T12:35:58.397Z"
   },
   {
    "duration": 9,
    "start_time": "2022-04-30T12:35:58.425Z"
   },
   {
    "duration": 33,
    "start_time": "2022-04-30T12:35:58.435Z"
   },
   {
    "duration": 3,
    "start_time": "2022-04-30T12:35:58.469Z"
   },
   {
    "duration": 55,
    "start_time": "2022-04-30T12:35:58.474Z"
   },
   {
    "duration": 51,
    "start_time": "2022-04-30T12:35:58.530Z"
   },
   {
    "duration": 10,
    "start_time": "2022-04-30T12:35:58.583Z"
   },
   {
    "duration": 71,
    "start_time": "2022-04-30T12:35:58.594Z"
   },
   {
    "duration": 62,
    "start_time": "2022-04-30T12:35:58.667Z"
   },
   {
    "duration": 53,
    "start_time": "2022-04-30T12:35:58.731Z"
   },
   {
    "duration": 64,
    "start_time": "2022-04-30T12:35:58.785Z"
   },
   {
    "duration": 10,
    "start_time": "2022-04-30T12:35:58.850Z"
   },
   {
    "duration": 85,
    "start_time": "2022-04-30T12:35:58.861Z"
   },
   {
    "duration": 47,
    "start_time": "2022-04-30T12:35:58.947Z"
   },
   {
    "duration": 46,
    "start_time": "2022-04-30T12:35:58.995Z"
   },
   {
    "duration": 3,
    "start_time": "2022-04-30T12:43:58.097Z"
   },
   {
    "duration": 312,
    "start_time": "2022-04-30T12:43:58.102Z"
   },
   {
    "duration": 6,
    "start_time": "2022-04-30T12:43:58.416Z"
   },
   {
    "duration": 21,
    "start_time": "2022-04-30T12:43:58.424Z"
   },
   {
    "duration": 48,
    "start_time": "2022-04-30T12:43:58.446Z"
   },
   {
    "duration": 105,
    "start_time": "2022-04-30T12:43:58.496Z"
   },
   {
    "duration": 48,
    "start_time": "2022-04-30T12:43:58.602Z"
   },
   {
    "duration": 107,
    "start_time": "2022-04-30T12:43:58.652Z"
   },
   {
    "duration": 15,
    "start_time": "2022-04-30T12:43:58.761Z"
   },
   {
    "duration": 51,
    "start_time": "2022-04-30T12:43:58.779Z"
   },
   {
    "duration": 5,
    "start_time": "2022-04-30T12:43:58.832Z"
   },
   {
    "duration": 416,
    "start_time": "2022-04-30T12:43:58.838Z"
   },
   {
    "duration": 15,
    "start_time": "2022-04-30T12:43:59.256Z"
   },
   {
    "duration": 28,
    "start_time": "2022-04-30T12:43:59.272Z"
   },
   {
    "duration": 23,
    "start_time": "2022-04-30T12:43:59.301Z"
   },
   {
    "duration": 22,
    "start_time": "2022-04-30T12:43:59.326Z"
   },
   {
    "duration": 73,
    "start_time": "2022-04-30T12:43:59.350Z"
   },
   {
    "duration": 15,
    "start_time": "2022-04-30T12:43:59.425Z"
   },
   {
    "duration": 10,
    "start_time": "2022-04-30T12:43:59.442Z"
   },
   {
    "duration": 10,
    "start_time": "2022-04-30T12:43:59.453Z"
   },
   {
    "duration": 58,
    "start_time": "2022-04-30T12:43:59.465Z"
   },
   {
    "duration": 3,
    "start_time": "2022-04-30T12:43:59.525Z"
   },
   {
    "duration": 35,
    "start_time": "2022-04-30T12:43:59.529Z"
   },
   {
    "duration": 63,
    "start_time": "2022-04-30T12:43:59.566Z"
   },
   {
    "duration": 9,
    "start_time": "2022-04-30T12:43:59.631Z"
   },
   {
    "duration": 56,
    "start_time": "2022-04-30T12:43:59.642Z"
   },
   {
    "duration": 67,
    "start_time": "2022-04-30T12:43:59.700Z"
   },
   {
    "duration": 59,
    "start_time": "2022-04-30T12:43:59.771Z"
   },
   {
    "duration": 38,
    "start_time": "2022-04-30T12:43:59.832Z"
   },
   {
    "duration": 11,
    "start_time": "2022-04-30T12:43:59.872Z"
   },
   {
    "duration": 98,
    "start_time": "2022-04-30T12:43:59.885Z"
   },
   {
    "duration": 1249,
    "start_time": "2022-04-30T15:23:01.836Z"
   },
   {
    "duration": 235,
    "start_time": "2022-04-30T15:23:03.087Z"
   },
   {
    "duration": 10,
    "start_time": "2022-04-30T15:23:03.323Z"
   },
   {
    "duration": 28,
    "start_time": "2022-04-30T15:23:03.335Z"
   },
   {
    "duration": 69,
    "start_time": "2022-04-30T15:23:03.364Z"
   },
   {
    "duration": 145,
    "start_time": "2022-04-30T15:23:03.435Z"
   },
   {
    "duration": 50,
    "start_time": "2022-04-30T15:23:03.582Z"
   },
   {
    "duration": 124,
    "start_time": "2022-04-30T15:23:03.634Z"
   },
   {
    "duration": 26,
    "start_time": "2022-04-30T15:23:03.760Z"
   },
   {
    "duration": 36,
    "start_time": "2022-04-30T15:23:03.789Z"
   },
   {
    "duration": 5,
    "start_time": "2022-04-30T15:23:03.827Z"
   },
   {
    "duration": 502,
    "start_time": "2022-04-30T15:23:03.834Z"
   },
   {
    "duration": 19,
    "start_time": "2022-04-30T15:23:04.338Z"
   },
   {
    "duration": 42,
    "start_time": "2022-04-30T15:23:04.359Z"
   },
   {
    "duration": 8,
    "start_time": "2022-04-30T15:23:04.403Z"
   },
   {
    "duration": 23,
    "start_time": "2022-04-30T15:23:04.413Z"
   },
   {
    "duration": 96,
    "start_time": "2022-04-30T15:23:04.438Z"
   },
   {
    "duration": 18,
    "start_time": "2022-04-30T15:23:04.536Z"
   },
   {
    "duration": 28,
    "start_time": "2022-04-30T15:23:04.556Z"
   },
   {
    "duration": 305,
    "start_time": "2022-04-30T15:23:04.586Z"
   },
   {
    "duration": 85,
    "start_time": "2022-04-30T15:23:04.893Z"
   },
   {
    "duration": 5,
    "start_time": "2022-04-30T15:23:04.980Z"
   },
   {
    "duration": 117,
    "start_time": "2022-04-30T15:23:04.987Z"
   },
   {
    "duration": 70,
    "start_time": "2022-04-30T15:23:05.106Z"
   },
   {
    "duration": 10,
    "start_time": "2022-04-30T15:23:05.178Z"
   },
   {
    "duration": 70,
    "start_time": "2022-04-30T15:23:05.190Z"
   },
   {
    "duration": 58,
    "start_time": "2022-04-30T15:23:05.274Z"
   },
   {
    "duration": 77,
    "start_time": "2022-04-30T15:23:05.335Z"
   },
   {
    "duration": 65,
    "start_time": "2022-04-30T15:23:05.414Z"
   },
   {
    "duration": 10,
    "start_time": "2022-04-30T15:23:05.482Z"
   },
   {
    "duration": 104,
    "start_time": "2022-04-30T15:23:05.494Z"
   },
   {
    "duration": 10,
    "start_time": "2022-04-30T15:47:11.527Z"
   },
   {
    "duration": 59,
    "start_time": "2022-04-30T15:47:12.977Z"
   },
   {
    "duration": 11,
    "start_time": "2022-04-30T15:47:23.078Z"
   },
   {
    "duration": 56,
    "start_time": "2022-04-30T15:47:23.856Z"
   },
   {
    "duration": 10,
    "start_time": "2022-04-30T15:47:55.291Z"
   },
   {
    "duration": 54,
    "start_time": "2022-04-30T15:47:55.320Z"
   },
   {
    "duration": 54,
    "start_time": "2022-04-30T15:47:57.985Z"
   },
   {
    "duration": 57,
    "start_time": "2022-04-30T15:47:58.276Z"
   },
   {
    "duration": 53,
    "start_time": "2022-04-30T15:47:58.845Z"
   },
   {
    "duration": 10,
    "start_time": "2022-04-30T15:47:59.608Z"
   },
   {
    "duration": 91,
    "start_time": "2022-04-30T15:48:00.007Z"
   },
   {
    "duration": 1089,
    "start_time": "2022-04-30T15:49:21.022Z"
   },
   {
    "duration": 226,
    "start_time": "2022-04-30T15:49:22.113Z"
   },
   {
    "duration": 10,
    "start_time": "2022-04-30T15:49:22.340Z"
   },
   {
    "duration": 28,
    "start_time": "2022-04-30T15:49:22.352Z"
   },
   {
    "duration": 69,
    "start_time": "2022-04-30T15:49:22.381Z"
   },
   {
    "duration": 143,
    "start_time": "2022-04-30T15:49:22.452Z"
   },
   {
    "duration": 39,
    "start_time": "2022-04-30T15:49:22.597Z"
   },
   {
    "duration": 122,
    "start_time": "2022-04-30T15:49:22.638Z"
   },
   {
    "duration": 24,
    "start_time": "2022-04-30T15:49:22.762Z"
   },
   {
    "duration": 35,
    "start_time": "2022-04-30T15:49:22.789Z"
   },
   {
    "duration": 5,
    "start_time": "2022-04-30T15:49:22.826Z"
   },
   {
    "duration": 489,
    "start_time": "2022-04-30T15:49:22.833Z"
   },
   {
    "duration": 21,
    "start_time": "2022-04-30T15:49:23.323Z"
   },
   {
    "duration": 45,
    "start_time": "2022-04-30T15:49:23.345Z"
   },
   {
    "duration": 6,
    "start_time": "2022-04-30T15:49:23.391Z"
   },
   {
    "duration": 22,
    "start_time": "2022-04-30T15:49:23.399Z"
   },
   {
    "duration": 82,
    "start_time": "2022-04-30T15:49:23.423Z"
   },
   {
    "duration": 15,
    "start_time": "2022-04-30T15:49:23.507Z"
   },
   {
    "duration": 12,
    "start_time": "2022-04-30T15:49:23.524Z"
   },
   {
    "duration": 319,
    "start_time": "2022-04-30T15:49:23.537Z"
   },
   {
    "duration": 34,
    "start_time": "2022-04-30T15:49:23.858Z"
   },
   {
    "duration": 4,
    "start_time": "2022-04-30T15:49:23.893Z"
   },
   {
    "duration": 86,
    "start_time": "2022-04-30T15:49:23.898Z"
   },
   {
    "duration": 60,
    "start_time": "2022-04-30T15:49:23.986Z"
   },
   {
    "duration": 30,
    "start_time": "2022-04-30T15:49:24.049Z"
   },
   {
    "duration": 62,
    "start_time": "2022-04-30T15:49:24.081Z"
   },
   {
    "duration": 69,
    "start_time": "2022-04-30T15:49:24.145Z"
   },
   {
    "duration": 71,
    "start_time": "2022-04-30T15:49:24.216Z"
   },
   {
    "duration": 57,
    "start_time": "2022-04-30T15:49:24.289Z"
   },
   {
    "duration": 11,
    "start_time": "2022-04-30T15:49:24.348Z"
   },
   {
    "duration": 115,
    "start_time": "2022-04-30T15:49:24.361Z"
   },
   {
    "duration": 1118,
    "start_time": "2022-04-30T15:58:23.829Z"
   },
   {
    "duration": 235,
    "start_time": "2022-04-30T15:58:24.950Z"
   },
   {
    "duration": 11,
    "start_time": "2022-04-30T15:58:25.187Z"
   },
   {
    "duration": 22,
    "start_time": "2022-04-30T15:58:25.200Z"
   },
   {
    "duration": 91,
    "start_time": "2022-04-30T15:58:25.224Z"
   },
   {
    "duration": 149,
    "start_time": "2022-04-30T15:58:25.317Z"
   },
   {
    "duration": 43,
    "start_time": "2022-04-30T15:58:25.467Z"
   },
   {
    "duration": 129,
    "start_time": "2022-04-30T15:58:25.512Z"
   },
   {
    "duration": 33,
    "start_time": "2022-04-30T15:58:25.643Z"
   },
   {
    "duration": 41,
    "start_time": "2022-04-30T15:58:25.679Z"
   },
   {
    "duration": 6,
    "start_time": "2022-04-30T15:58:25.722Z"
   },
   {
    "duration": 505,
    "start_time": "2022-04-30T15:58:25.730Z"
   },
   {
    "duration": 20,
    "start_time": "2022-04-30T15:58:26.236Z"
   },
   {
    "duration": 40,
    "start_time": "2022-04-30T15:58:26.258Z"
   },
   {
    "duration": 7,
    "start_time": "2022-04-30T15:58:26.299Z"
   },
   {
    "duration": 24,
    "start_time": "2022-04-30T15:58:26.308Z"
   },
   {
    "duration": 83,
    "start_time": "2022-04-30T15:58:26.334Z"
   },
   {
    "duration": 16,
    "start_time": "2022-04-30T15:58:26.419Z"
   },
   {
    "duration": 12,
    "start_time": "2022-04-30T15:58:26.436Z"
   },
   {
    "duration": 267,
    "start_time": "2022-04-30T15:58:26.450Z"
   },
   {
    "duration": 68,
    "start_time": "2022-04-30T15:58:26.720Z"
   },
   {
    "duration": 4,
    "start_time": "2022-04-30T15:58:26.789Z"
   },
   {
    "duration": 102,
    "start_time": "2022-04-30T15:58:26.794Z"
   },
   {
    "duration": 75,
    "start_time": "2022-04-30T15:58:26.898Z"
   },
   {
    "duration": 10,
    "start_time": "2022-04-30T15:58:26.975Z"
   },
   {
    "duration": 64,
    "start_time": "2022-04-30T15:58:26.986Z"
   },
   {
    "duration": 66,
    "start_time": "2022-04-30T15:58:27.051Z"
   },
   {
    "duration": 69,
    "start_time": "2022-04-30T15:58:27.120Z"
   },
   {
    "duration": 51,
    "start_time": "2022-04-30T15:58:27.190Z"
   },
   {
    "duration": 10,
    "start_time": "2022-04-30T15:58:27.243Z"
   },
   {
    "duration": 101,
    "start_time": "2022-04-30T15:58:27.255Z"
   },
   {
    "duration": 78,
    "start_time": "2022-04-30T15:58:27.358Z"
   },
   {
    "duration": 1284,
    "start_time": "2022-04-30T16:00:07.254Z"
   },
   {
    "duration": 233,
    "start_time": "2022-04-30T16:00:08.541Z"
   },
   {
    "duration": 13,
    "start_time": "2022-04-30T16:00:08.776Z"
   },
   {
    "duration": 25,
    "start_time": "2022-04-30T16:00:08.791Z"
   },
   {
    "duration": 105,
    "start_time": "2022-04-30T16:00:08.818Z"
   },
   {
    "duration": 162,
    "start_time": "2022-04-30T16:00:08.926Z"
   },
   {
    "duration": 45,
    "start_time": "2022-04-30T16:00:09.090Z"
   },
   {
    "duration": 141,
    "start_time": "2022-04-30T16:00:09.137Z"
   },
   {
    "duration": 19,
    "start_time": "2022-04-30T16:00:09.279Z"
   },
   {
    "duration": 40,
    "start_time": "2022-04-30T16:00:09.301Z"
   },
   {
    "duration": 36,
    "start_time": "2022-04-30T16:00:09.343Z"
   },
   {
    "duration": 506,
    "start_time": "2022-04-30T16:00:09.381Z"
   },
   {
    "duration": 23,
    "start_time": "2022-04-30T16:00:09.890Z"
   },
   {
    "duration": 34,
    "start_time": "2022-04-30T16:00:09.915Z"
   },
   {
    "duration": 30,
    "start_time": "2022-04-30T16:00:09.951Z"
   },
   {
    "duration": 24,
    "start_time": "2022-04-30T16:00:09.983Z"
   },
   {
    "duration": 88,
    "start_time": "2022-04-30T16:00:10.009Z"
   },
   {
    "duration": 17,
    "start_time": "2022-04-30T16:00:10.099Z"
   },
   {
    "duration": 13,
    "start_time": "2022-04-30T16:00:10.118Z"
   },
   {
    "duration": 1287,
    "start_time": "2022-04-30T16:00:10.133Z"
   },
   {
    "duration": 66,
    "start_time": "2022-04-30T16:00:11.422Z"
   },
   {
    "duration": 4,
    "start_time": "2022-04-30T16:00:11.489Z"
   },
   {
    "duration": 97,
    "start_time": "2022-04-30T16:00:11.494Z"
   },
   {
    "duration": 62,
    "start_time": "2022-04-30T16:00:11.593Z"
   },
   {
    "duration": 11,
    "start_time": "2022-04-30T16:00:11.674Z"
   },
   {
    "duration": 65,
    "start_time": "2022-04-30T16:00:11.687Z"
   },
   {
    "duration": 71,
    "start_time": "2022-04-30T16:00:11.754Z"
   },
   {
    "duration": 72,
    "start_time": "2022-04-30T16:00:11.829Z"
   },
   {
    "duration": 52,
    "start_time": "2022-04-30T16:00:11.903Z"
   },
   {
    "duration": 29,
    "start_time": "2022-04-30T16:00:11.957Z"
   },
   {
    "duration": 116,
    "start_time": "2022-04-30T16:00:11.988Z"
   },
   {
    "duration": 104,
    "start_time": "2022-04-30T16:00:12.106Z"
   },
   {
    "duration": 4,
    "start_time": "2022-04-30T16:03:21.171Z"
   },
   {
    "duration": 245,
    "start_time": "2022-04-30T16:03:21.176Z"
   },
   {
    "duration": 9,
    "start_time": "2022-04-30T16:03:21.423Z"
   },
   {
    "duration": 39,
    "start_time": "2022-04-30T16:03:21.434Z"
   },
   {
    "duration": 64,
    "start_time": "2022-04-30T16:03:21.475Z"
   },
   {
    "duration": 143,
    "start_time": "2022-04-30T16:03:21.540Z"
   },
   {
    "duration": 39,
    "start_time": "2022-04-30T16:03:21.685Z"
   },
   {
    "duration": 120,
    "start_time": "2022-04-30T16:03:21.725Z"
   },
   {
    "duration": 29,
    "start_time": "2022-04-30T16:03:21.846Z"
   },
   {
    "duration": 37,
    "start_time": "2022-04-30T16:03:21.877Z"
   },
   {
    "duration": 6,
    "start_time": "2022-04-30T16:03:21.916Z"
   },
   {
    "duration": 543,
    "start_time": "2022-04-30T16:03:21.923Z"
   },
   {
    "duration": 17,
    "start_time": "2022-04-30T16:03:22.472Z"
   },
   {
    "duration": 42,
    "start_time": "2022-04-30T16:03:23.097Z"
   },
   {
    "duration": 9,
    "start_time": "2022-04-30T16:03:23.141Z"
   },
   {
    "duration": 36,
    "start_time": "2022-04-30T16:03:23.152Z"
   },
   {
    "duration": 64,
    "start_time": "2022-04-30T16:03:23.190Z"
   },
   {
    "duration": 26,
    "start_time": "2022-04-30T16:03:23.255Z"
   },
   {
    "duration": 13,
    "start_time": "2022-04-30T16:03:23.284Z"
   },
   {
    "duration": 12,
    "start_time": "2022-04-30T16:03:23.299Z"
   },
   {
    "duration": 64,
    "start_time": "2022-04-30T16:03:23.313Z"
   },
   {
    "duration": 3,
    "start_time": "2022-04-30T16:03:23.380Z"
   },
   {
    "duration": 40,
    "start_time": "2022-04-30T16:03:23.385Z"
   },
   {
    "duration": 79,
    "start_time": "2022-04-30T16:03:23.426Z"
   },
   {
    "duration": 13,
    "start_time": "2022-04-30T16:03:23.849Z"
   },
   {
    "duration": 65,
    "start_time": "2022-04-30T16:03:23.864Z"
   },
   {
    "duration": 66,
    "start_time": "2022-04-30T16:03:23.931Z"
   },
   {
    "duration": 74,
    "start_time": "2022-04-30T16:03:23.999Z"
   },
   {
    "duration": 49,
    "start_time": "2022-04-30T16:03:24.075Z"
   },
   {
    "duration": 10,
    "start_time": "2022-04-30T16:03:24.126Z"
   },
   {
    "duration": 120,
    "start_time": "2022-04-30T16:03:24.137Z"
   },
   {
    "duration": 92,
    "start_time": "2022-04-30T16:03:24.259Z"
   },
   {
    "duration": 1168,
    "start_time": "2022-04-30T16:11:37.355Z"
   },
   {
    "duration": 225,
    "start_time": "2022-04-30T16:11:38.525Z"
   },
   {
    "duration": 13,
    "start_time": "2022-04-30T16:11:38.752Z"
   },
   {
    "duration": 26,
    "start_time": "2022-04-30T16:11:38.766Z"
   },
   {
    "duration": 88,
    "start_time": "2022-04-30T16:11:38.795Z"
   },
   {
    "duration": 159,
    "start_time": "2022-04-30T16:11:38.886Z"
   },
   {
    "duration": 51,
    "start_time": "2022-04-30T16:11:39.047Z"
   },
   {
    "duration": 127,
    "start_time": "2022-04-30T16:11:39.099Z"
   },
   {
    "duration": 17,
    "start_time": "2022-04-30T16:11:39.228Z"
   },
   {
    "duration": 52,
    "start_time": "2022-04-30T16:11:39.247Z"
   },
   {
    "duration": 5,
    "start_time": "2022-04-30T16:11:39.301Z"
   },
   {
    "duration": 503,
    "start_time": "2022-04-30T16:11:39.308Z"
   },
   {
    "duration": 22,
    "start_time": "2022-04-30T16:11:39.812Z"
   },
   {
    "duration": 39,
    "start_time": "2022-04-30T16:11:39.837Z"
   },
   {
    "duration": 6,
    "start_time": "2022-04-30T16:11:39.878Z"
   },
   {
    "duration": 21,
    "start_time": "2022-04-30T16:11:39.886Z"
   },
   {
    "duration": 65,
    "start_time": "2022-04-30T16:11:39.909Z"
   },
   {
    "duration": 16,
    "start_time": "2022-04-30T16:11:39.976Z"
   },
   {
    "duration": 13,
    "start_time": "2022-04-30T16:11:39.993Z"
   },
   {
    "duration": 317,
    "start_time": "2022-04-30T16:11:40.007Z"
   },
   {
    "duration": 82,
    "start_time": "2022-04-30T16:11:40.325Z"
   },
   {
    "duration": 4,
    "start_time": "2022-04-30T16:11:40.408Z"
   },
   {
    "duration": 96,
    "start_time": "2022-04-30T16:11:40.413Z"
   },
   {
    "duration": 100,
    "start_time": "2022-04-30T16:11:40.510Z"
   },
   {
    "duration": 12,
    "start_time": "2022-04-30T16:11:40.612Z"
   },
   {
    "duration": 83,
    "start_time": "2022-04-30T16:11:40.626Z"
   },
   {
    "duration": 70,
    "start_time": "2022-04-30T16:11:40.711Z"
   },
   {
    "duration": 60,
    "start_time": "2022-04-30T16:11:40.782Z"
   },
   {
    "duration": 77,
    "start_time": "2022-04-30T16:11:40.843Z"
   },
   {
    "duration": 10,
    "start_time": "2022-04-30T16:11:40.922Z"
   },
   {
    "duration": 99,
    "start_time": "2022-04-30T16:11:40.933Z"
   },
   {
    "duration": 97,
    "start_time": "2022-04-30T16:11:41.034Z"
   }
  ],
  "kernelspec": {
   "display_name": "Python 3 (ipykernel)",
   "language": "python",
   "name": "python3"
  },
  "language_info": {
   "codemirror_mode": {
    "name": "ipython",
    "version": 3
   },
   "file_extension": ".py",
   "mimetype": "text/x-python",
   "name": "python",
   "nbconvert_exporter": "python",
   "pygments_lexer": "ipython3",
   "version": "3.9.5"
  },
  "toc": {
   "base_numbering": 1,
   "nav_menu": {},
   "number_sections": true,
   "sideBar": true,
   "skip_h1_title": true,
   "title_cell": "Table of Contents",
   "title_sidebar": "Contents",
   "toc_cell": false,
   "toc_position": {},
   "toc_section_display": true,
   "toc_window_display": false
  }
 },
 "nbformat": 4,
 "nbformat_minor": 5
}
